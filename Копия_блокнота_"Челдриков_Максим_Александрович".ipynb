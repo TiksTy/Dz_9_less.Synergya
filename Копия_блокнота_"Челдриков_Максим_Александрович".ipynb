{
  "cells": [
    {
      "cell_type": "markdown",
      "metadata": {
        "id": "view-in-github",
        "colab_type": "text"
      },
      "source": [
        "<a href=\"https://colab.research.google.com/github/TiksTy/Dz_9_less.Synergya/blob/main/%D0%9A%D0%BE%D0%BF%D0%B8%D1%8F_%D0%B1%D0%BB%D0%BE%D0%BA%D0%BD%D0%BE%D1%82%D0%B0_%22%D0%A7%D0%B5%D0%BB%D0%B4%D1%80%D0%B8%D0%BA%D0%BE%D0%B2_%D0%9C%D0%B0%D0%BA%D1%81%D0%B8%D0%BC_%D0%90%D0%BB%D0%B5%D0%BA%D1%81%D0%B0%D0%BD%D0%B4%D1%80%D0%BE%D0%B2%D0%B8%D1%87%22.ipynb\" target=\"_parent\"><img src=\"https://colab.research.google.com/assets/colab-badge.svg\" alt=\"Open In Colab\"/></a>"
      ]
    },
    {
      "cell_type": "markdown",
      "id": "Jh9JRGnOHq9f",
      "metadata": {
        "id": "Jh9JRGnOHq9f"
      },
      "source": [
        "# Переменные"
      ]
    },
    {
      "cell_type": "markdown",
      "id": "YmYxQ_OvTq25",
      "metadata": {
        "id": "YmYxQ_OvTq25"
      },
      "source": [
        "## 1.1"
      ]
    },
    {
      "cell_type": "markdown",
      "id": "ThTafN3oHq9t",
      "metadata": {
        "id": "ThTafN3oHq9t"
      },
      "source": [
        "Создайте переменную, хранящую название романа Донны Тарт «Щегол». Назовите переменную book_title. Поместите в неё значение «Щегол» с помощью оператора присваивания. Выведите переменную на экран с помощью функции print()."
      ]
    },
    {
      "cell_type": "code",
      "execution_count": null,
      "id": "fe02b311-3209-4338-82dc-fecf01e4cc34",
      "metadata": {
        "colab": {
          "base_uri": "https://localhost:8080/"
        },
        "id": "fe02b311-3209-4338-82dc-fecf01e4cc34",
        "outputId": "efb08e69-8990-4162-d4b8-9842e44a782a"
      },
      "outputs": [
        {
          "name": "stdout",
          "output_type": "stream",
          "text": [
            "Щегол\n"
          ]
        }
      ],
      "source": [
        "book_title = \"Щегол\"\n",
        "print(book_title)"
      ]
    },
    {
      "cell_type": "markdown",
      "id": "Sh1p8lBET1GW",
      "metadata": {
        "id": "Sh1p8lBET1GW"
      },
      "source": [
        "## 1.2"
      ]
    },
    {
      "cell_type": "markdown",
      "id": "KPFdAkrWHq9t",
      "metadata": {
        "id": "KPFdAkrWHq9t"
      },
      "source": [
        "Создайте переменную, которая содержит год публикации романа на русском языке - 2014. Назовите переменную publish_year. Выведите переменную на экран с помощью функции print()."
      ]
    },
    {
      "cell_type": "code",
      "execution_count": null,
      "id": "6550d35e-88d4-499c-b5d7-486ee0ef3aa7",
      "metadata": {
        "colab": {
          "base_uri": "https://localhost:8080/"
        },
        "id": "6550d35e-88d4-499c-b5d7-486ee0ef3aa7",
        "outputId": "4f85740c-96a3-4a20-d420-0bb43370e967"
      },
      "outputs": [
        {
          "name": "stdout",
          "output_type": "stream",
          "text": [
            "2014\n"
          ]
        }
      ],
      "source": [
        "publish_year = 2014\n",
        "print(publish_year)"
      ]
    },
    {
      "cell_type": "markdown",
      "id": "2bRHGCn6UEBt",
      "metadata": {
        "id": "2bRHGCn6UEBt"
      },
      "source": [
        "## 1.3"
      ]
    },
    {
      "cell_type": "markdown",
      "id": "d-HlhuFCHq9u",
      "metadata": {
        "id": "d-HlhuFCHq9u"
      },
      "source": [
        "Какой тип данных содержат переменные book_title и publish_year? Проверьте свое предположение, используя функцию `type()` и выведите типы переменных на экран с помощью функции print()."
      ]
    },
    {
      "cell_type": "code",
      "execution_count": 75,
      "id": "353ee2a7-ab01-445b-90cf-a8bd8ec32c46",
      "metadata": {
        "colab": {
          "base_uri": "https://localhost:8080/"
        },
        "id": "353ee2a7-ab01-445b-90cf-a8bd8ec32c46",
        "outputId": "b3c57322-534a-4439-ecf1-a220b573dd6a"
      },
      "outputs": [
        {
          "output_type": "stream",
          "name": "stdout",
          "text": [
            "<class 'int'>\n",
            "<class 'str'>\n"
          ]
        }
      ],
      "source": [
        "print(type(publish_year))\n",
        "print(type(book_title))"
      ]
    },
    {
      "cell_type": "markdown",
      "id": "lRPtyfXaUMmF",
      "metadata": {
        "id": "lRPtyfXaUMmF"
      },
      "source": [
        "## 1.4"
      ]
    },
    {
      "cell_type": "markdown",
      "id": "7HJXzvpxHq9v",
      "metadata": {
        "id": "7HJXzvpxHq9v"
      },
      "source": [
        "Преобразуйте тип переменной `book_price` в целое число, используя функцию `int()` и выведите на экран значение и тип преобразованной переменной."
      ]
    },
    {
      "cell_type": "code",
      "execution_count": null,
      "id": "aZaDWOkMHq9v",
      "metadata": {
        "colab": {
          "base_uri": "https://localhost:8080/"
        },
        "id": "aZaDWOkMHq9v",
        "outputId": "e55c304a-60fc-4b93-bc70-1e0ad1b002cb"
      },
      "outputs": [
        {
          "name": "stdout",
          "output_type": "stream",
          "text": [
            "<class 'float'>\n",
            "958\n",
            "<class 'int'>\n"
          ]
        }
      ],
      "source": [
        "book_price = 958.0\n",
        "print(type(book_price))\n",
        "book_price = int(book_price)\n",
        "print(f'{book_price}\\n{type(book_price)}')"
      ]
    },
    {
      "cell_type": "markdown",
      "id": "cxshYfVZUZhR",
      "metadata": {
        "id": "cxshYfVZUZhR"
      },
      "source": [
        "## 1.5"
      ]
    },
    {
      "cell_type": "markdown",
      "id": "16e5e246-bcd3-4d64-8dac-adaa4bbc8d87",
      "metadata": {
        "id": "16e5e246-bcd3-4d64-8dac-adaa4bbc8d87"
      },
      "source": [
        "Сова для волшебника.  \n",
        "Создайте три переменных:  \n",
        "owl_name - имя совы, строковая переменная, не менее двух символов  \n",
        "owl_age - возраст совы, неотрицательное число  \n",
        "is_fast - признак скорости, логическая переменная, True или False  \n",
        "\n",
        "Выведите переменные на просмотр, используя print()."
      ]
    },
    {
      "cell_type": "code",
      "execution_count": null,
      "id": "57109ded-acfb-4d7e-a828-f3b9aaacb50d",
      "metadata": {
        "colab": {
          "base_uri": "https://localhost:8080/"
        },
        "id": "57109ded-acfb-4d7e-a828-f3b9aaacb50d",
        "outputId": "ce76b05e-f42a-4274-bdc6-e2ac71145c83"
      },
      "outputs": [
        {
          "name": "stdout",
          "output_type": "stream",
          "text": [
            "sova\n",
            "6\n",
            "True\n"
          ]
        }
      ],
      "source": [
        "owl_name = \"sova\"\n",
        "owl_age = 6\n",
        "is_fast = bool(1)\n",
        "print(f'{owl_name}\\n{owl_age}\\n{is_fast}')"
      ]
    },
    {
      "cell_type": "markdown",
      "id": "ZxSqSUvIUfbr",
      "metadata": {
        "id": "ZxSqSUvIUfbr"
      },
      "source": [
        "## 1.6"
      ]
    },
    {
      "cell_type": "markdown",
      "id": "08b84dd6-a4af-4464-9034-7722921e8a8e",
      "metadata": {
        "id": "08b84dd6-a4af-4464-9034-7722921e8a8e"
      },
      "source": [
        "Запишите в переменную name ваше имя. Выведите на экран приветствие в виде \"Привет, [имя]!\".  "
      ]
    },
    {
      "cell_type": "code",
      "execution_count": null,
      "id": "a21fcca7-8019-46a6-af09-6b29edbb5187",
      "metadata": {
        "colab": {
          "base_uri": "https://localhost:8080/"
        },
        "id": "a21fcca7-8019-46a6-af09-6b29edbb5187",
        "outputId": "b155b763-f73a-4a9f-b4dd-44de6c87e247"
      },
      "outputs": [
        {
          "name": "stdout",
          "output_type": "stream",
          "text": [
            "Привет, Максим!\n"
          ]
        }
      ],
      "source": [
        "# объявляем переменную name\n",
        "name = 'Максим'\n",
        "\n",
        "print(\"Привет, \" + name + \"!\")"
      ]
    },
    {
      "cell_type": "markdown",
      "id": "rqncrKQSIEeS",
      "metadata": {
        "id": "rqncrKQSIEeS"
      },
      "source": [
        "# Числа"
      ]
    },
    {
      "cell_type": "markdown",
      "id": "gnqh49_KUyYe",
      "metadata": {
        "id": "gnqh49_KUyYe"
      },
      "source": [
        "## 2.1"
      ]
    },
    {
      "cell_type": "markdown",
      "id": "VlvZ0mWxIEeh",
      "metadata": {
        "id": "VlvZ0mWxIEeh"
      },
      "source": [
        "Посчитайте разницу стоимости книги на ozon (`ozon_price`) и wildberries (`wb_price`). Результат сохраните в переменной `delta_price`. Выведите на экран её значение."
      ]
    },
    {
      "cell_type": "code",
      "execution_count": 76,
      "id": "NucTL6a-IEeh",
      "metadata": {
        "colab": {
          "base_uri": "https://localhost:8080/"
        },
        "id": "NucTL6a-IEeh",
        "outputId": "089db45f-72a5-49cf-fba5-b3e87047c82d"
      },
      "outputs": [
        {
          "output_type": "stream",
          "name": "stdout",
          "text": [
            "102.20000000000005\n"
          ]
        }
      ],
      "source": [
        "ozon_price = 1058.2\n",
        "wb_price = 956\n",
        "delta_price = ozon_price - wb_price\n",
        "print(delta_price)"
      ]
    },
    {
      "cell_type": "markdown",
      "id": "XZVyAKv1U6ls",
      "metadata": {
        "id": "XZVyAKv1U6ls"
      },
      "source": [
        "## 2.2"
      ]
    },
    {
      "cell_type": "markdown",
      "id": "oMRhs1K2IEei",
      "metadata": {
        "id": "oMRhs1K2IEei"
      },
      "source": [
        "Округлите результат вычислений `delta_price` до первого знака после запятой, используя функцию `round()`. Выведите результат на экран."
      ]
    },
    {
      "cell_type": "code",
      "execution_count": null,
      "id": "bf61ae33-941e-4cb6-80a7-c72288181594",
      "metadata": {
        "colab": {
          "base_uri": "https://localhost:8080/"
        },
        "id": "bf61ae33-941e-4cb6-80a7-c72288181594",
        "outputId": "caa95de2-912b-49e6-caf6-899a2a7e29e1"
      },
      "outputs": [
        {
          "name": "stdout",
          "output_type": "stream",
          "text": [
            "102.2\n"
          ]
        }
      ],
      "source": [
        "print(round(delta_price, 1))"
      ]
    },
    {
      "cell_type": "markdown",
      "id": "Lje4YRiwU-Aw",
      "metadata": {
        "id": "Lje4YRiwU-Aw"
      },
      "source": [
        "## 2.3"
      ]
    },
    {
      "cell_type": "markdown",
      "id": "BhSRVVuaIEel",
      "metadata": {
        "id": "BhSRVVuaIEel"
      },
      "source": [
        "Преобразуйте значение переменной `novel_share` из типа `str` в тип `float`. Для этого примените функцию float() и поместите результат в ту же переменную. Определите тип объекта после преобразования функцией `type()` и выведите результат на экран."
      ]
    },
    {
      "cell_type": "code",
      "execution_count": null,
      "id": "wpY5gM3LIEel",
      "metadata": {
        "colab": {
          "base_uri": "https://localhost:8080/"
        },
        "id": "wpY5gM3LIEel",
        "outputId": "4c783224-813b-437a-b8f8-1296343b0c27"
      },
      "outputs": [
        {
          "name": "stdout",
          "output_type": "stream",
          "text": [
            "<class 'float'>\n"
          ]
        }
      ],
      "source": [
        "novel_share = \"0.64\"\n",
        "novel_share = float(novel_share)\n",
        "print(type(novel_share))"
      ]
    },
    {
      "cell_type": "markdown",
      "id": "5e2xUK21VDeq",
      "metadata": {
        "id": "5e2xUK21VDeq"
      },
      "source": [
        "## 2.4"
      ]
    },
    {
      "cell_type": "markdown",
      "id": "a083307a-ccd5-4016-97f1-296d6e307a1e",
      "metadata": {
        "id": "a083307a-ccd5-4016-97f1-296d6e307a1e"
      },
      "source": [
        "В переменной start_price записана стоимость 1 кг бананов на начало года. За год цена возросла на 15%. Рассчитайте текущую цену бананов и запишите ее в переменную new_price. Результат округлите до целого рубля. Выведите результат с помощью функции print().  "
      ]
    },
    {
      "cell_type": "code",
      "execution_count": null,
      "id": "f8d5bd9b-b0ef-4bc6-8d54-19167741bc9d",
      "metadata": {
        "colab": {
          "base_uri": "https://localhost:8080/"
        },
        "id": "f8d5bd9b-b0ef-4bc6-8d54-19167741bc9d",
        "outputId": "e462f808-6d78-4597-bfb0-f7d2ce7f8698"
      },
      "outputs": [
        {
          "name": "stdout",
          "output_type": "stream",
          "text": [
            "126\n"
          ]
        }
      ],
      "source": [
        "start_price = 110\n",
        "new_price = (((start_price / 100) * 15) + start_price)\n",
        "print(round(new_price))"
      ]
    },
    {
      "cell_type": "markdown",
      "id": "9Uo8xDb1VHoo",
      "metadata": {
        "id": "9Uo8xDb1VHoo"
      },
      "source": [
        "## 2.5"
      ]
    },
    {
      "cell_type": "markdown",
      "id": "53d54966-0544-46be-9588-95667f9dda45",
      "metadata": {
        "id": "53d54966-0544-46be-9588-95667f9dda45"
      },
      "source": [
        "Рассчитаем изменение «индекса пюре с котлетой».\n",
        "Стоимость 1 порции в 2022 - 262 руб.  - переменная price_2022\n",
        "Стоимость 1 порции в 2023 - 254 руб.  - переменная price_2023\n",
        "  \n",
        "Вычислите, на сколько процентов по модулю изменилась цена за год.  \n",
        "Результат округлите до двух знаков после запятой и сохраните в переменную result.  \n",
        "Выведите result на просмотр, используя функцию print().\n",
        "\n",
        "*Подсказка:*   \n",
        "функция abs() возвращает абсолютное значение числа.  \n",
        "\n",
        "<pre><code>number = -5\n",
        "result = abs(number)\n",
        "# Вывод: 5</code></pre>"
      ]
    },
    {
      "cell_type": "code",
      "execution_count": null,
      "id": "e5f63704-7e9c-464e-bc6c-1d2d7a78f976",
      "metadata": {
        "id": "e5f63704-7e9c-464e-bc6c-1d2d7a78f976"
      },
      "outputs": [],
      "source": [
        "price_2022 = 262\n",
        "price_2023 = 254\n",
        "\n",
        "# ваш код здесь"
      ]
    },
    {
      "cell_type": "markdown",
      "id": "UCU4AXSwVS5y",
      "metadata": {
        "id": "UCU4AXSwVS5y"
      },
      "source": [
        "## 2.6"
      ]
    },
    {
      "cell_type": "markdown",
      "id": "4827d067-e3bb-46aa-b0f0-0415362ba913",
      "metadata": {
        "id": "4827d067-e3bb-46aa-b0f0-0415362ba913"
      },
      "source": [
        "Создайте переменные:    \n",
        "- x со значением 5 типа int,  \n",
        "- y со значением \"10\" типа str,  \n",
        "- z со значением True типа bool.  \n",
        "\n",
        "В переменную my_sum сохраните сумму трех переменных, которые вы создали, преобразовав y и z к типу int.  \n",
        "Выведите результат на экран, используя функцию print()."
      ]
    },
    {
      "cell_type": "code",
      "execution_count": null,
      "id": "f2478baf-5586-4743-a574-87a0ac842b01",
      "metadata": {
        "colab": {
          "base_uri": "https://localhost:8080/"
        },
        "id": "f2478baf-5586-4743-a574-87a0ac842b01",
        "outputId": "903984f0-7105-48e9-dba4-1c1247faa780"
      },
      "outputs": [
        {
          "name": "stdout",
          "output_type": "stream",
          "text": [
            "16\n"
          ]
        }
      ],
      "source": [
        "x = 5\n",
        "y = \"10\"\n",
        "z = bool(1)\n",
        "my_sum = x + int(y) + int(z)\n",
        "print(my_sum)"
      ]
    },
    {
      "cell_type": "markdown",
      "id": "Kywpw8w0VXj3",
      "metadata": {
        "id": "Kywpw8w0VXj3"
      },
      "source": [
        "## 2.7 - дополнительно"
      ]
    },
    {
      "cell_type": "markdown",
      "id": "1cb539b8-ae9c-4c75-817a-0941f22957b3",
      "metadata": {
        "id": "1cb539b8-ae9c-4c75-817a-0941f22957b3"
      },
      "source": [
        "В переменной temperature_celsius записана температура в градусах Цельсия. Переведите ее в градусы Фаренгейта и запишите в переменную temperature_fahrenheit. Выведите результат с помощью функции print().    \n",
        "  \n",
        "*Подсказка:*  \n",
        "Формула для перевода.  \n",
        "*Фаренгейт = Цельсий х 1.8 + 32*"
      ]
    },
    {
      "cell_type": "code",
      "execution_count": null,
      "id": "50a71031-e39b-4a3b-bbd9-65311a687240",
      "metadata": {
        "colab": {
          "base_uri": "https://localhost:8080/"
        },
        "id": "50a71031-e39b-4a3b-bbd9-65311a687240",
        "outputId": "62703461-6b4e-4cbd-c947-c39c64424dac"
      },
      "outputs": [
        {
          "name": "stdout",
          "output_type": "stream",
          "text": [
            "77.0\n"
          ]
        }
      ],
      "source": [
        "# температура в градусах Цельсия\n",
        "temperature_celsius = 25\n",
        "temperature_fahrenheit = temperature_celsius * 1.8 + 32\n",
        "print(temperature_fahrenheit)"
      ]
    },
    {
      "cell_type": "markdown",
      "id": "d3501235-b5f7-4e42-9794-78cadcdfd538",
      "metadata": {
        "id": "d3501235-b5f7-4e42-9794-78cadcdfd538"
      },
      "source": [
        "## 2.8 - дополнительно"
      ]
    },
    {
      "cell_type": "markdown",
      "id": "eedc380d-6907-4197-84a4-8551806d0d87",
      "metadata": {
        "id": "eedc380d-6907-4197-84a4-8551806d0d87"
      },
      "source": [
        "Создайте переменную radius и присвойте ей значение радиуса окружности. Напишите код, который будет расчитывать площадь круга, ограниченного этой окружностью. Округлите результат до сотых и запишите в переменную square. Выведите ее на просмотр, используя print().\n",
        "Формула для вычисления площади круга: pi * r^2, где pi - это число Пи  \n",
        "Константу Пи получите из библиотеки math (`math.pi`)."
      ]
    },
    {
      "cell_type": "code",
      "execution_count": null,
      "id": "1211b624-c49c-4462-9beb-20da79828e7b",
      "metadata": {
        "id": "1211b624-c49c-4462-9beb-20da79828e7b"
      },
      "outputs": [],
      "source": []
    },
    {
      "cell_type": "markdown",
      "id": "c25efd0b-84b8-4649-949d-034f676ec54b",
      "metadata": {
        "id": "c25efd0b-84b8-4649-949d-034f676ec54b"
      },
      "source": [
        "## 2.9 - дополнительно"
      ]
    },
    {
      "cell_type": "markdown",
      "id": "bbe8b987-8cfe-4aab-ae6e-63967e349ea6",
      "metadata": {
        "id": "bbe8b987-8cfe-4aab-ae6e-63967e349ea6"
      },
      "source": [
        "В переменной `start_data` записано целое число количество секунд.  \n",
        "Напишите код, который переводит заданное количество секунд в часы, минуты и секунды. Результат сохраните в переменные `hours`, `minutes`, `seconds`. Выведите их на просмотр, используя `print()`.   \n",
        "\n",
        "Пример:  \n",
        "start_data = 154  \n",
        "hours = 0  \n",
        "minutes = 2  \n",
        "seconds = 34  \n",
        "  \n",
        "*Подсказка:*   \n",
        "1 час = 3600 секунд, 1 минута = 60 секунд.    \n",
        "Для перевода используйте целочисленное деление // и  остаток от деления %.  \n",
        "Если выполнить операцию 5 // 2, результатом будет 2, так как целая часть от деления 5 на 2 равна 2.  \n",
        "Если выполнить операцию 5 % 2, результатом будет 1."
      ]
    },
    {
      "cell_type": "code",
      "execution_count": null,
      "id": "b6ba6621-e134-4099-a7cb-3ec7456150f3",
      "metadata": {
        "id": "b6ba6621-e134-4099-a7cb-3ec7456150f3"
      },
      "outputs": [],
      "source": [
        "start_data = 241\n",
        "# ваш код здесь"
      ]
    },
    {
      "cell_type": "markdown",
      "id": "4123fac3-20c5-4f64-a02c-950fe0882257",
      "metadata": {
        "id": "4123fac3-20c5-4f64-a02c-950fe0882257"
      },
      "source": [
        "# Строки"
      ]
    },
    {
      "cell_type": "markdown",
      "id": "yx5q8StLdALc",
      "metadata": {
        "id": "yx5q8StLdALc"
      },
      "source": [
        "## 3.1"
      ]
    },
    {
      "cell_type": "markdown",
      "id": "535b8cbc-c640-4355-853f-75ea88609d0b",
      "metadata": {
        "id": "535b8cbc-c640-4355-853f-75ea88609d0b"
      },
      "source": [
        "Сохраните в переменной `main_character` имя главного героя серии романов Джоан Роулинг о Гарри Поттере.\n",
        "Выведите на экран длину содержимого переменной."
      ]
    },
    {
      "cell_type": "code",
      "execution_count": null,
      "id": "71ed8468-e7c8-418e-a073-4a5fb6987763",
      "metadata": {
        "colab": {
          "base_uri": "https://localhost:8080/"
        },
        "id": "71ed8468-e7c8-418e-a073-4a5fb6987763",
        "outputId": "fbeb3529-346b-49c1-82dd-1efb5bafc699"
      },
      "outputs": [
        {
          "name": "stdout",
          "output_type": "stream",
          "text": [
            "12\n"
          ]
        }
      ],
      "source": [
        "main_character = \"Гарри Поттер\"\n",
        "print(len(main_character))"
      ]
    },
    {
      "cell_type": "markdown",
      "id": "gpmIUmpJdfFi",
      "metadata": {
        "id": "gpmIUmpJdfFi"
      },
      "source": [
        "## 3.2"
      ]
    },
    {
      "cell_type": "markdown",
      "id": "f23f9cb2-b770-4983-b475-11a3d6907d27",
      "metadata": {
        "id": "f23f9cb2-b770-4983-b475-11a3d6907d27"
      },
      "source": [
        "С помощью неотрицательного индекса выведите на экран символ e из строки в переменной word."
      ]
    },
    {
      "cell_type": "code",
      "execution_count": null,
      "id": "da2220b9-34fc-40d1-b939-abf5c1bd50c3",
      "metadata": {
        "colab": {
          "base_uri": "https://localhost:8080/"
        },
        "id": "da2220b9-34fc-40d1-b939-abf5c1bd50c3",
        "outputId": "da88cd7b-cb9e-465c-af07-3eebf1dc75e0"
      },
      "outputs": [
        {
          "name": "stdout",
          "output_type": "stream",
          "text": [
            "е\n"
          ]
        }
      ],
      "source": [
        "book_title = \"Щегол\"\n",
        "print(book_title[1])"
      ]
    },
    {
      "cell_type": "markdown",
      "id": "rV-lNmqRdx7S",
      "metadata": {
        "id": "rV-lNmqRdx7S"
      },
      "source": [
        "## 3.3"
      ]
    },
    {
      "cell_type": "markdown",
      "id": "519dc579-cd4d-46d4-ae52-42630e976d1f",
      "metadata": {
        "id": "519dc579-cd4d-46d4-ae52-42630e976d1f"
      },
      "source": [
        "Примените отрицательный индекс, чтобы вывести на экран символ e из строки в переменной."
      ]
    },
    {
      "cell_type": "code",
      "execution_count": null,
      "id": "f1b2798b-ac8f-43d3-8c6a-aadb1322f386",
      "metadata": {
        "colab": {
          "base_uri": "https://localhost:8080/"
        },
        "id": "f1b2798b-ac8f-43d3-8c6a-aadb1322f386",
        "outputId": "1122a621-f5a7-44f0-dce9-a2726d5b1b9b"
      },
      "outputs": [
        {
          "name": "stdout",
          "output_type": "stream",
          "text": [
            "е\n"
          ]
        }
      ],
      "source": [
        "book_title = \"Щегол\"\n",
        "print(book_title[-4])"
      ]
    },
    {
      "cell_type": "markdown",
      "id": "FckiORZdd7bw",
      "metadata": {
        "id": "FckiORZdd7bw"
      },
      "source": [
        "## 3.4"
      ]
    },
    {
      "cell_type": "markdown",
      "id": "8b9b80df-170a-41b4-a0b0-c551792e5d5b",
      "metadata": {
        "id": "8b9b80df-170a-41b4-a0b0-c551792e5d5b"
      },
      "source": [
        "Переменная `word` хранит строку `фантом`. С помощью среза выведите на экран подстроку со словом `том`."
      ]
    },
    {
      "cell_type": "code",
      "execution_count": null,
      "id": "16bbe4f6-e4fc-4d95-b828-8833ec2e109f",
      "metadata": {
        "colab": {
          "base_uri": "https://localhost:8080/"
        },
        "id": "16bbe4f6-e4fc-4d95-b828-8833ec2e109f",
        "outputId": "d695fd3f-cca1-408a-980d-8446cca735d0"
      },
      "outputs": [
        {
          "name": "stdout",
          "output_type": "stream",
          "text": [
            "том\n"
          ]
        }
      ],
      "source": [
        "word = \"фантом\"\n",
        "print(word[3:])"
      ]
    },
    {
      "cell_type": "markdown",
      "id": "i3J1MYu0hqXy",
      "metadata": {
        "id": "i3J1MYu0hqXy"
      },
      "source": [
        "## 3.5"
      ]
    },
    {
      "cell_type": "markdown",
      "id": "14360de2-995c-4769-b0e3-8254e91a1326",
      "metadata": {
        "id": "14360de2-995c-4769-b0e3-8254e91a1326"
      },
      "source": [
        "Замените подстроку `Скорость` на `Терпение`, используя метод `replace()`. Сохраните результат в переменную `proverb` и выведите на экран её значение."
      ]
    },
    {
      "cell_type": "code",
      "execution_count": null,
      "id": "d2f8c096-9283-4fbc-832f-b44998a51461",
      "metadata": {
        "colab": {
          "base_uri": "https://localhost:8080/"
        },
        "id": "d2f8c096-9283-4fbc-832f-b44998a51461",
        "outputId": "2f9f762a-6aa0-4f57-ab43-8a3616bd0321"
      },
      "outputs": [
        {
          "name": "stdout",
          "output_type": "stream",
          "text": [
            "Терпение и труд все перетрут.\n"
          ]
        }
      ],
      "source": [
        "proverb = \"Скорость и труд все перетрут.\"\n",
        "\n",
        "proverb = proverb.replace(\"Скорость\", \"Терпение\")\n",
        "print(proverb)"
      ]
    },
    {
      "cell_type": "markdown",
      "id": "qtLzIxmDh6qM",
      "metadata": {
        "id": "qtLzIxmDh6qM"
      },
      "source": [
        "## 3.6"
      ]
    },
    {
      "cell_type": "markdown",
      "id": "99de2f32-7ef4-4e3b-9605-66d1b60289b3",
      "metadata": {
        "id": "99de2f32-7ef4-4e3b-9605-66d1b60289b3"
      },
      "source": [
        "С помощью f-строк выведите на экран фразу: Книга «Географ глобус пропил» вперые опубликована в 1997 году издательством \"Вагриус\".  \n",
        "Год и наименование издательства вставьте в строку из переменных `year` и `publisher`"
      ]
    },
    {
      "cell_type": "code",
      "execution_count": null,
      "id": "2893d28b-5720-43a1-997c-62e23ec020a3",
      "metadata": {
        "colab": {
          "base_uri": "https://localhost:8080/"
        },
        "id": "2893d28b-5720-43a1-997c-62e23ec020a3",
        "outputId": "59fb9f8b-ebc9-46d3-d840-6fc091347c59"
      },
      "outputs": [
        {
          "name": "stdout",
          "output_type": "stream",
          "text": [
            "Книга «Географ глобус пропил» вперые опубликована в 1997 году издательством \"Вагриус\"\n"
          ]
        }
      ],
      "source": [
        "year = 1997\n",
        "publisher = \"Вагриус\"\n",
        "print(f\"Книга «Географ глобус пропил» вперые опубликована в {year} году издательством \\\"{publisher}\\\"\")"
      ]
    },
    {
      "cell_type": "markdown",
      "id": "DCwy3PKnjmqp",
      "metadata": {
        "id": "DCwy3PKnjmqp"
      },
      "source": [
        "## 3.7 - дополнительно"
      ]
    },
    {
      "cell_type": "markdown",
      "id": "eac27fb0-0638-4245-9ad6-f7d06f055947",
      "metadata": {
        "id": "eac27fb0-0638-4245-9ad6-f7d06f055947"
      },
      "source": [
        "Перед вами загадка сфинкса из турнира Кубок Огня:  \n",
        "\n",
        "Мой первый слог проворней всех слывёт по праву  \n",
        "Он очень быстр на руку, ногу и расправу;  \n",
        "Второй мой слог есть плод окружности решений  \n",
        "Её с диаметром законных отношений.  \n",
        "Мой третий слог — абстрактно названный мужчина  \n",
        "Ни цвета кожи, ни фамилии, ни чина.  \n",
        "Сложив их вместе, существо ты образуешь,  \n",
        "Какое ты скорей умрёшь, чем поцелуешь.   \n",
        "\n",
        "Сохраните ее в переменной `sphinx_riddle`  в виде многострочной строки.  \n",
        "Выведите содержимое переменной на экран."
      ]
    },
    {
      "cell_type": "code",
      "execution_count": null,
      "id": "f2d6b12e-d3bd-4a0d-aaee-6ca13956f4d4",
      "metadata": {
        "id": "f2d6b12e-d3bd-4a0d-aaee-6ca13956f4d4"
      },
      "outputs": [],
      "source": [
        "# ваш код здесь"
      ]
    },
    {
      "cell_type": "markdown",
      "id": "VJMijw9Qjs-U",
      "metadata": {
        "id": "VJMijw9Qjs-U"
      },
      "source": [
        "## 3.8 - дополнительно"
      ]
    },
    {
      "cell_type": "markdown",
      "id": "3dcc8570-cbef-4d87-b326-a43da36c1f03",
      "metadata": {
        "id": "3dcc8570-cbef-4d87-b326-a43da36c1f03"
      },
      "source": [
        "Напишите пословицу \"Век живи - век учись\" 10 раз. Выведите на экран каждую фразу на отдельной строке.  \n",
        "\n",
        "*Подсказка:*  \n",
        "для вывода на отдельных строках укажите специальный символ переноса строки `\\n` после указания строки в функции `print()`"
      ]
    },
    {
      "cell_type": "code",
      "execution_count": null,
      "id": "a69eda79-872d-4f1d-9cd7-b32dc5aa742d",
      "metadata": {
        "id": "a69eda79-872d-4f1d-9cd7-b32dc5aa742d"
      },
      "outputs": [],
      "source": [
        "# ваш код здесь"
      ]
    },
    {
      "cell_type": "markdown",
      "id": "UKNtRJDwjx7B",
      "metadata": {
        "id": "UKNtRJDwjx7B"
      },
      "source": [
        "## 3.9 - дополнительно"
      ]
    },
    {
      "cell_type": "markdown",
      "id": "13c102dc-c553-4756-9152-101298b39ce4",
      "metadata": {
        "id": "13c102dc-c553-4756-9152-101298b39ce4"
      },
      "source": [
        "Сложите строку `my_choice` c одной из переменных - `first`, `second`, `third` - на ваш выбор. Результат выведите на экран"
      ]
    },
    {
      "cell_type": "code",
      "execution_count": null,
      "id": "6004e208-ac98-4edd-9893-934c9f746c56",
      "metadata": {
        "id": "6004e208-ac98-4edd-9893-934c9f746c56"
      },
      "outputs": [],
      "source": [
        "my_choice = \"Я хочу стать \"\n",
        "first = \"аналитиком\"\n",
        "second = \"тестировщиком\"\n",
        "third = \"разработчиком\"\n",
        "\n",
        "# ваш код здесь"
      ]
    },
    {
      "cell_type": "markdown",
      "id": "cHgn1iICj2ed",
      "metadata": {
        "id": "cHgn1iICj2ed"
      },
      "source": [
        "## 3.10 - дополнительно"
      ]
    },
    {
      "cell_type": "markdown",
      "id": "TjrqGU1Ojeut",
      "metadata": {
        "id": "TjrqGU1Ojeut"
      },
      "source": [
        "В переменной city записано название города. Напишите код, чтобы определить, четно или нет количество символов в нем.\n",
        "Ответ выведите на экран, используя f-строки. Формат ответа: \"В названии города N четное (нечетное) число символов\".\n",
        "\n",
        "*Подсказка:*   \n",
        "используйте операцию остаток от деления % для определения четности."
      ]
    },
    {
      "cell_type": "code",
      "execution_count": null,
      "id": "aIB2m89filjR",
      "metadata": {
        "id": "aIB2m89filjR"
      },
      "outputs": [],
      "source": [
        "city = \"Хабаровск\"\n",
        "# ваш код здесь"
      ]
    },
    {
      "cell_type": "markdown",
      "id": "4ba242e8-a4e8-4a7d-8cb9-12d546db0e96",
      "metadata": {
        "id": "4ba242e8-a4e8-4a7d-8cb9-12d546db0e96"
      },
      "source": [
        "# Списки"
      ]
    },
    {
      "cell_type": "markdown",
      "id": "pzpkwbUekMm8",
      "metadata": {
        "id": "pzpkwbUekMm8"
      },
      "source": [
        "## 4.1"
      ]
    },
    {
      "cell_type": "markdown",
      "id": "3b1b7cb5-4ea4-4540-8a76-e17eeaf4cc75",
      "metadata": {
        "id": "3b1b7cb5-4ea4-4540-8a76-e17eeaf4cc75"
      },
      "source": [
        "Запишите в список значения из первой строки таблицы с рейтингом книг. Результат сохраните в переменную `book_info` и выведите на экран её содержимое. Строки должны иметь тип str, целые числа — int, а вещественные числа — float."
      ]
    },
    {
      "cell_type": "markdown",
      "id": "5291ad71-ab4c-48de-8f40-19902c4b80d0",
      "metadata": {
        "id": "5291ad71-ab4c-48de-8f40-19902c4b80d0"
      },
      "source": [
        "![image.png](data:image/png;base64,iVBORw0KGgoAAAANSUhEUgAAAoYAAABCCAMAAAGKtddWAAAAAXNSR0IArs4c6QAAAARnQU1BAACxjwv8YQUAAAC0UExURf///8+XJycnJyeXz///z5cnJ5fP/++3Zydnt+/////vt2cnJycnZ7fv////77dnJ2e37//Plycnl8///7fvz5fPz2e3t8+3Z5fP7+/Pl+//77eXJ//Pt8//78//z2dnZ5eXlydnl5dnJ8+Xl5e378/vt7fPt5eol729vZcnl2cnl2cnZ7dnl7dnZ2dnJ7eXt2dnt5eXz5cnZ7e3Z5eXZyeXl7fv75e3t7e372e3z8/PlwAAAI5d2mIAAAA8dFJOU///////////////////////////////////////////////////////////////////////////////ALuI66cAAAAJcEhZcwAADsMAAA7DAcdvqGQAAA7tSURBVHhe7Z2JeuO2FYVBcCfFTco0k2matE0ybeymTdS97/9gPecAXCRRm+2ZOBn8ny2RIHg3XJAgCM+YD0DMj8Tk2hHWf4vOmA2/M1/TUycm8psnxBVlxPkoZ2MjY7GTOBEdd/pNndVb2yaQO0D353aUGLcVzrAlVKZ9dlbJJ4Hts2TfIkSmzM1gTJExjsY8mJRfByBSiNkZqr3f+ERBCJdZjQQ9ZqVoBucyc6c+0m9sZra134P4TbXj92fWFNSDhoirysS7hu0VW52ITdvyaG9ry50GXaFB3/h0qUzWmR1+TRczIvjGRcJ0efnGJfohsWn8VuADE9e2ypGpvGojf6dr+YjNmo2tzK707YQrOfI5LlLtokFLy/sGxVSmz+Ie6Y4mbhN0xSFNbeL6hCk3W1vzzmAjSSA4CfeAHgpSSC/jDjKzHCc0uPwt7lOvnT+/aryRv1SQYhPPyYkS2an7w5IvbrrQRK3fANZmGNTAqCTaD7EzrsP1DRe11AwW9+sB+8hzDaaQ0exZ1f9SXu6uQMn4dDsjj6aA1Mu0NjFbvx34NPCjCQ4PLdKtcLtHlErCNXp+jEOhjR9lnh2hNMrK5WPBkum0QyMi8zuzibsUpTaChcc3+tzWFSxEse8bOwyWbJQbK6t73ERw43FiNlEadSbCGKpED4S128ZubCGFNhkMx194lMCNx2mJzA5iIigwtixxGvxN0cGKOk1wn2MV1mLv7PoUDtSR2RadojLTpdV3EINa3kJrh60s1CAQFiYYBzoxmy3E2LRuM9wQaSGefnajhai1e0/3djElsMyfBAUmhoUt+35qNpmFhcaeC3Xgbvxd8JXijQx8Cjw8+I1zrF/Fb2HAqDrOF+MUUpW4/l3TiUvNfNnbPfD6mfTmPa7YGb7FgEH+puMzwrYYcNTayg03HsphjyfbEg/JV9ntoSs/evruU1wpr1kIK6br4cC7Am5svWlwJ+C3yNIsbUpaaIqmKPssTSW1M12zL2Dh8cBvhdpiEBXrTneIvWahNRq5BQKBO4gOhjnp1EVVnt91MazOjnTP0VpdLlaQrDQ7sI7T1LdT46kSQ0PJP3TyHJMp64oocJ2II97a2r7lADjNNLVS220U4yMvUHo5Mh0GpXVTbSCnogR8bxPNyntQAZ643yzHCNhOo1Oc0LD8LdRby/aarKGshjFkndTad3xuLiGrgHANn+tswJOtjfHbQ6wEAhwthi3GzpCyUQxRILHudwyEiihPmuiBqvI3G7UxoVJb0EUoqWkHJM/2j0QoLeF6MUBIk76V99AdxfjIi9yab1zFM8DlLO1znFzSjF2dVXwymLHZgALcjSkTiY1nom/9ITx/0HBozAuXxJM1leQihihhnBukEo40A+Piegv8pay0iYpFf7FNvsXJMATtoBgip6O4HW0YcZogz2mSBwm9gDkwIEYfkVDoYgVoQAyzhCLT61nNxnhB0IpHj2dnYILd1ulU9YyV6/3wlEnTmStQi/6HFD09CMU3qggEAoFA4EmkGPbcAO6wfuuI2g0DPioVR2m6bY7fF+Bh3Ms5FNTM7BNx/q8r682DiUxeYqMzEUYiGCjhZ2Oi0u07OmOGnYl/Mo9tD8tz02MXVJkpTFHtWDfJTGp+mid7uqyN29jUJm3wU0FNarhc5gWIDGdd+JM0sP0Ce9Rxb7OuTcdcgQsknNJjIP7BPHILMXzktE7SxP0egUoat++gGT9wHUun2P3IGKKSqRrErOt0LmPYZrOtOKdA7dzshyFp9mYoXyiGfLkRGS7NifmWZMWtiaGEia65nxlDnu+UHgEVJ+8wz+Ka83burR8IBAKBwCfNwbB5MfHnhpN3zfKcn+g9R3d2sms5C+15wqT6OBF+4OQ5JlPWFZ2ZIyOrMdQkJ2cfb4+hJin99q1osa7n6GQfw5mbwrDAx9Dt3HTysjlPTrgYCTz+cL7dzYsndqBq7O/4YLTT7PvFyLTWbmFu3XCyHBIob5cunv34iiHjnL2fj8/45antJopza6EENWglDjprppl81MFTGufj9WLClpqQp43wy4mUWAlEU7KK3Q1bStHLBJSwnrdhSiYUxZJHTfIgGl8r5NQWQRuqQfc7KITxFe2wOypwEmasqbZdxiDAXdRSvDUBrjykKtU7ByrIAuXhsB0KtOfY/GTY4nkPfiNakGlLGjK2CqzU64HO9jiZJZM12NVMvhzhdLJeTOCRreeEvKp+Jaf4koPz9x5ISxvFEE+qqMsYomF5nrNhhJokj5p8DCGPrxXww2DgqOsLjBrfdGA7zRSaI+wuKiKc5N9VdMqgRQwzc/EpPUfa0Ncxhv49iD8KBhzM+N5jiiEXOjjGGMKK0sdwtGZ6G2J3X0Y93/XANffKx8dwsNgoq/EdiIevRXZ1Fo2GMGrMD8TQ2TBCTZI3akIM/asZxRANS6E4QhehY4wh3zMdYSMU1UgNJDbPUK+o0I31UbL0Eq39DMZu2ZhoUSRdhLxdxtCkGzYGTHYxhO/TJNEYwxTnDDJ5sqZ+b3e0BlZsE/vdBi6hIhN2jCEzlLJsfJiHkvUF8rDeom6E/os6evslG0akSR0AmuQB+zJyXTHsrNFVjRGRi5H6svLq3OvcBej6s6bnw2uO37wCOtutS0RQ9U/rVsL/25g0uQ5wQseGXLkZ4Hp4q4pAIBD4tPCLdgP34yMYCAQCgUDg9ZHgadxvXgJPvusP0pWfMfuo1HjgHfg4m/vvC+Q8nNoYz7/P+ZPZQYtR15VVO/ePRFxh5fW+I+Yyk49PoaUtKWI4rgQ5x48F/y4Z3OTnBbi4gkpPiSg7hk1aBsEJDS2OGRpT+H3BGG5Nnpiq6Sitj/wfQteIYV4+qC5XgiRzTFsLjZ2pMreC51sTa0HOixAnDZMQP/t5fc8aSTOu73huDB8ojBpPeIDsgVNUVMV2NfsH86bh36b6fUEzIka64Mxu02b8R3zYu4cdYmZL1eUEFvrZaGvbQzYcLJL3u2iPfqBl/f7g89h6d/BTuCw7R8R2fZEY1udiiNigN7OTI4b/bhRDLjBCyu79vmAM289Qr830QqNkHjKvH5F37dtMdZmHyLtFDIcStZEzcb+H/uKl8pCXJnWrnGugVtyaUU9Wl3luDHn+al9GYiA1OuQPYljIHHQO+ItSvy/UHWregfC7Sdj1teSfLpQbE71jXfVl+36K4X9Rg0vs0Z/Kvam3LxVDvbgamO+wL5peSa3B9GBHQaXnxVCz6E7pMbyWTH9mf4X2ziluLq0LBAKBQCAQCAQCgUDglwfXup0hSQ+f5fVor/raym3xIaZeqxpiq3qzNlv8onBhbn/ifttd0jzZpdisxW5g2QcKjThrwoWWvJdTUfJIvl3kyY0HjVxRh6jBLb+smQ0EhfSz7ayXWdUo3e5Q32/JMhwfKzwN6oIAmc4P7tseW5+lTjDXP0MRjHmT0swTaMJv1GM4jwy7nUvYgIWfo9wXHyInqC721SjG9qw75dBpbJxd2JpzgIc2jc7e7vTFf4GGJ81hfItiRRbkqOZO93bJktnaQ1D4BQWjsv9YMcGFaHJ7EYfopG1mn0b7JoEMv/ug1EOz8PlOvr1JOd3pHAQwgs3iW3FqvGbhNNX9VnZdIKJ7/IgomRsDBcKTTCr0JkvIbVnotmiKghPNdZ4Exc0hkIeIQY8tBl3xsT0qec+PUA2aixTosUdPtjtUpwAcmop9/RGVyx1Vcz6pUaaWU2xyfEyxkV3eHJcDqvOlTplaUD4sw8jFzZNYd1Z/YBdPkBnH5E7Kplmk4akJauPR7UUcZlcmJp8m+ySQJ85t4CUuzFKrqJgV5nDiPN8sMsc3ntLQOQ1rlDBX0xAV4N5XagZKUAl9wclfLzyRHtV3W1Sp9nkOiIPiOYdg8kRB1x6VOp0rqIYT4WvIAX54UesnLtNQTiDe2JFmjwQdxEZHfWyUA6NZbCwd1DmUqI2p6sJ8lP1eilwJdp2b3oxDvAsHaXhkAi3z9ymVH8bhGBVSzmTfJFAboxNHZunTCRzsH/6IOg7n19iKs7mT05K3bsoSXUeZ8PRFGzCAuGxD6XipY/nkrLcRVcDYNZ4A2x64W6Iu7HDJR0SRd/ZJ09iOh/gzFQPSO5/5MUbQFR+B85Zp6DyR0zqLnMbGb3hzeLJK/FiC5lObbsreLt9pl+ZjmxHzdlEhOJuGQpcroqshWZgg3XMaTg6z4ITJp8m+SaAvgRM488gsfco32TRFU0aMVrpxhhpP5frwx66k4a8D3WpenNV2fD7uAnEbq7n5HE59uscccX9YeO/3m79W1IfvDOSNfJA0RJPcIfXVpSHCfV+wdTU8uRcFAoFAIBAIBAKn+L8cDQQ+Jj77AoFAIBAIBAKBQCAQCFwn+X5nqoeXWh7Q6j/zu4PqsTEmf+HXp6+R9i87RKd3Hg9cj1HVesvL/fwZ6zPaH/7qXtwOXEXQ/g2hfLn2vJ9vuLTXJcHk6Q0MSAFndsRFQ26ZT/GO6ZSkzr/ELX7O+Wabi4Owp3Qbjy/waah/rxZSubgIdbgIwYnQ/tI0/aPJSMOqxonRrFeu6AMyTl+po0FRrnf11KG6k5FUBxWziFcDgu0iJLe98/i4u/cuyHvn4+LfCP4505C4/+5p6ek1VJdmy/RkjwanEBYP27/7NNz/AxvDP/eNujNrHRxf4OPJwPhNyGWmO/kQjZ+DHqK8d4mNQ5Pcgxw6DWvb0TsIcrLg62ykKkDngYhXAS96CrG//rsmQs9eBuROGFwGwcl1nMbr44H2lG/YWnh6DUWCZs+54dMQvSt3aZbs/9Vlyfdf7RsnGQcPji9gGpHqx5JiuPXYTJbwdJ+GY3oosVVBf1QzyZ1yiJe3tTSkdJS7lmTSTUaaCPJfXxq6nuMj5Mzm53L/Cbi7F+4LLiKOnzMNidN/h2cu+XRaxCzgyMKlIW+mUxoi/75WDg68PyJRDo4vGNPQ5F9DXPIfyH7EpROmJD85yUdpSK1KQ/yifJI75ZCUTV1kRH9Gx8OSzUHIbCQbhLfoScSrYEoNhlD3B/jJJmIENCR5Cj759KW/gvq5x4ZsZtcA2dLTy0yVopdurA8ciWXfDwTW+UCL6GdCGgYCgUAgEAgEAoFA4KUw5v9UgXCI+o/x8QAAAABJRU5ErkJggg==)"
      ]
    },
    {
      "cell_type": "code",
      "execution_count": null,
      "id": "b0e73284-2897-4518-8ef7-8fbf18a1b0b5",
      "metadata": {
        "colab": {
          "base_uri": "https://localhost:8080/"
        },
        "id": "b0e73284-2897-4518-8ef7-8fbf18a1b0b5",
        "outputId": "c93a636d-7b77-4f60-e292-a41ab06ab305"
      },
      "outputs": [
        {
          "name": "stdout",
          "output_type": "stream",
          "text": [
            "['Дети мои', 'Гузель Яхина', 'роман', 2018, 'АСТ', 3.0]\n"
          ]
        }
      ],
      "source": [
        "book_info = [\"Дети мои\", \"Гузель Яхина\", \"роман\", 2018, \"АСТ\", 3.0]\n",
        "print(book_info)"
      ]
    },
    {
      "cell_type": "markdown",
      "id": "9j5hkbZskdXS",
      "metadata": {
        "id": "9j5hkbZskdXS"
      },
      "source": [
        "## 4.2"
      ]
    },
    {
      "cell_type": "markdown",
      "id": "ac86c485-daed-4f99-9a66-046385bb7193",
      "metadata": {
        "id": "ac86c485-daed-4f99-9a66-046385bb7193"
      },
      "source": [
        "В списке `book_marquez` хранятся данные о книге Маркеса \"Сто лет одиночества\".   \n",
        "\n",
        "Используя индексацию:  \n",
        "- В переменную first_item сохраните первый элемент списка.  \n",
        "- В переменную last_item сохраните последний элемент списка.  \n",
        "- В переменную reversed_list сохраните все элементы списка book_marquez в обратном порядке.  \n",
        "- В переменную even_items сохраните все элементы book_marquez с четными индексами.\n",
        "\n",
        "Выведите результат на просмотр, используя print().\n",
        "\n",
        "*Подсказка:*  \n",
        "0 - это [четное число](https://ru.wikipedia.org/wiki/Чётность_нуля)"
      ]
    },
    {
      "cell_type": "code",
      "execution_count": null,
      "id": "5c4d37c2-6bb0-4ae2-8b3d-0bdc73b18656",
      "metadata": {
        "colab": {
          "background_save": true
        },
        "id": "5c4d37c2-6bb0-4ae2-8b3d-0bdc73b18656",
        "outputId": "d7440522-7570-4124-a6b2-b26cd1d7ce8c"
      },
      "outputs": [
        {
          "name": "stdout",
          "output_type": "stream",
          "text": [
            "Сто лет одиночества\n",
            "АРГЕНТИНА\n",
            "['АРГЕНТИНА', 2.0, 1967, 'роман', 'Габриэль Гарсиа Маркес', 'Сто лет одиночества']\n",
            "['Сто лет одиночества', 'роман', 2.0]\n"
          ]
        }
      ],
      "source": [
        "book_marquez = [\n",
        "    \"Сто лет одиночества\",\n",
        "    \"Габриэль Гарсиа Маркес\",\n",
        "    \"роман\",\n",
        "    1967,\n",
        "    2.0,\n",
        "    \"АРГЕНТИНА\",\n",
        "]\n",
        "\n",
        "first_item = book_marquez[0]\n",
        "last_item = book_marquez[-1]\n",
        "reversed_list = book_marquez[::-1]\n",
        "even_items = book_marquez[::2]\n",
        "print(f'{first_item}\\n{}\\n{reversed_list}\\n{even_items}')"
      ]
    },
    {
      "cell_type": "markdown",
      "id": "b7288db0-d02a-4fab-b787-85f7a43e83b8",
      "metadata": {
        "id": "b7288db0-d02a-4fab-b787-85f7a43e83b8"
      },
      "source": [
        "Получите срез списка book_marquez: начало среза - 'роман', конец среза - 2.0.  \n",
        "Сохраните в переменную `book_marquez_slice`."
      ]
    },
    {
      "cell_type": "code",
      "execution_count": null,
      "id": "e361382f-6b04-4968-bfd4-9bbca8b4ea87",
      "metadata": {
        "id": "e361382f-6b04-4968-bfd4-9bbca8b4ea87"
      },
      "outputs": [],
      "source": [
        "book_marquez = [\n",
        "    \"Сто лет одиночества\",\n",
        "    \"Габриэль Гарсиа Маркес\",\n",
        "    \"роман\",\n",
        "    1967,\n",
        "    2.0,\n",
        "    \"АРГЕНТИНА\",\n",
        "]\n",
        "\n",
        "# ваш код здесь\n",
        "# book_marquez_slice"
      ]
    },
    {
      "cell_type": "markdown",
      "id": "ie5OV7r3korh",
      "metadata": {
        "id": "ie5OV7r3korh"
      },
      "source": [
        "## 4.3"
      ]
    },
    {
      "cell_type": "markdown",
      "id": "368d1961-bcb9-462d-b8af-5645ba4be63d",
      "metadata": {
        "id": "368d1961-bcb9-462d-b8af-5645ba4be63d"
      },
      "source": [
        "В списке `book_marquez` измените элемент с названием страны на Аргентина, используя строковый метод title(). Выведите обновленные список на просмотр с помощью print().  \n",
        "\n",
        "*Подсказка:*  \n",
        "Метод `title()` используется для преобразования первых символов каждого слова в строке в верхний регистр (заглавные буквы), а остальные символы в нижний регистр (строчные буквы).  \n",
        "\n",
        "Синтаксис:  \n",
        "`string.title()`  \n",
        "*string* - строка"
      ]
    },
    {
      "cell_type": "code",
      "execution_count": null,
      "id": "efd04bce-d166-41b2-959c-f258cd526cbf",
      "metadata": {
        "id": "efd04bce-d166-41b2-959c-f258cd526cbf"
      },
      "outputs": [],
      "source": [
        "book_marquez = [\n",
        "    \"Сто лет одиночества\",\n",
        "    \"Габриэль Гарсиа Маркес\",\n",
        "    \"роман\",\n",
        "    1967,\n",
        "    2.0,\n",
        "    \"АРГЕНТИНА\",\n",
        "]\n",
        "\n",
        "# ваш код здесь"
      ]
    },
    {
      "cell_type": "markdown",
      "id": "5WZIkY6SkvcN",
      "metadata": {
        "id": "5WZIkY6SkvcN"
      },
      "source": [
        "## 4.4"
      ]
    },
    {
      "cell_type": "markdown",
      "id": "cc474c1b-f463-44ae-9396-76c9e3aaf89c",
      "metadata": {
        "id": "cc474c1b-f463-44ae-9396-76c9e3aaf89c"
      },
      "source": [
        "В списке sales хранятся данные о продажах по месяцам. Рассчитайте продажи по кварталам и запишите в переменные quart_1, quart_2, quart_3, quart_4. Выведите переменные на просмотр, используя print()."
      ]
    },
    {
      "cell_type": "code",
      "execution_count": null,
      "id": "eff2204c-a950-4244-bfda-db6e225db139",
      "metadata": {
        "id": "eff2204c-a950-4244-bfda-db6e225db139"
      },
      "outputs": [],
      "source": [
        "sales = [\n",
        "    35381,\n",
        "    55722,\n",
        "    47214,\n",
        "    54053,\n",
        "    49497,\n",
        "    45846,\n",
        "    43314,\n",
        "    47230,\n",
        "    24585,\n",
        "    62438,\n",
        "    46067,\n",
        "    59919,\n",
        "]\n",
        "\n",
        "# ваш код здесь"
      ]
    },
    {
      "cell_type": "markdown",
      "id": "U4d73q4ykzc2",
      "metadata": {
        "id": "U4d73q4ykzc2"
      },
      "source": [
        "## 4.5"
      ]
    },
    {
      "cell_type": "markdown",
      "id": "5fe9aa02-de09-4c53-aeb3-cf8a6e7b7692",
      "metadata": {
        "id": "5fe9aa02-de09-4c53-aeb3-cf8a6e7b7692"
      },
      "source": [
        "Отсортируйте по убыванию список `book_publish_year` с помощью функции функцию `sorted().`   \n",
        "Результат сохраните в переменной `book_publish_year_sorted` и выведите на экран."
      ]
    },
    {
      "cell_type": "code",
      "execution_count": null,
      "id": "1e0c5a5c-d534-4ad5-a2b6-40f717da6495",
      "metadata": {
        "id": "1e0c5a5c-d534-4ad5-a2b6-40f717da6495"
      },
      "outputs": [],
      "source": [
        "book_publish_year = [2014, 1967, 1936, 1997, 1995, 2013, 2011, 2012, 1998]\n",
        "\n",
        "# book_publish_year_sorted = ваш код здесь\n",
        "# выведите получившийся список здесь"
      ]
    },
    {
      "cell_type": "markdown",
      "id": "lf2PJmYPm3kT",
      "metadata": {
        "id": "lf2PJmYPm3kT"
      },
      "source": [
        "## 4.6"
      ]
    },
    {
      "cell_type": "markdown",
      "id": "cbdbf54e-8e51-46ea-8f1e-c209ac5d5ac5",
      "metadata": {
        "id": "cbdbf54e-8e51-46ea-8f1e-c209ac5d5ac5"
      },
      "source": [
        "В списке checks находится информация о суммах, потраченных пользователем на покупки в приложении в течение недели. Рассчитайте средний чек, результат округлите до рубля, запишите в переменную avg_check и выведите ее на просмотр с помощью print().\n",
        "\n",
        "*Подсказка:*  \n",
        "Среднее арифметической - частное от деления суммы всех покупок на количество покупок."
      ]
    },
    {
      "cell_type": "code",
      "execution_count": null,
      "id": "f0408633-8f50-40d6-ac37-772aeb39c976",
      "metadata": {
        "id": "f0408633-8f50-40d6-ac37-772aeb39c976"
      },
      "outputs": [],
      "source": [
        "checks = [1546, 2157, 682, 1007, 1743, 767, 2351]\n",
        "# ваш код здесь"
      ]
    },
    {
      "cell_type": "markdown",
      "id": "683c9e82-a9ce-4559-bde8-dc733ceb769f",
      "metadata": {
        "id": "683c9e82-a9ce-4559-bde8-dc733ceb769f"
      },
      "source": [
        "## 4.7 - дополнительно"
      ]
    },
    {
      "cell_type": "markdown",
      "id": "_DBM92z0Ec62",
      "metadata": {
        "id": "_DBM92z0Ec62"
      },
      "source": [
        "С помощью оператора + сложите два списка в том же порядке, в котором они объявлены. Сохраните результат в переменной book_dostoevsky и выведите на экран её содержимое."
      ]
    },
    {
      "cell_type": "code",
      "execution_count": null,
      "id": "264c413d-f750-4502-b74b-0dc50c78bd95",
      "metadata": {
        "id": "264c413d-f750-4502-b74b-0dc50c78bd95"
      },
      "outputs": [],
      "source": [
        "first_part = [\"Братья Карамазовы\", \"Фёдор Достоевский\", \"роман\"]\n",
        "second_part = [1880, \"Русский вестник\", 6.0, \"РОССИЯ\"]\n",
        "\n",
        "# book_dostoevsky = напишите ваш код здесь\n",
        "# здесь выведите получившийся список book_dostoevsky на экран"
      ]
    },
    {
      "cell_type": "markdown",
      "id": "3dcZF2LlnwTo",
      "metadata": {
        "id": "3dcZF2LlnwTo"
      },
      "source": [
        "## 4.8 - дополнительно"
      ]
    },
    {
      "cell_type": "markdown",
      "id": "74fa4dee-e3a7-48ed-9f20-f25ef54305a6",
      "metadata": {
        "id": "74fa4dee-e3a7-48ed-9f20-f25ef54305a6"
      },
      "source": [
        "В списке `book_remarque` - данные о книге 'Три товарища'. Но не хватает информации:  \n",
        "год издания - 1936,  \n",
        "издательство - 'Gyldendal',  \n",
        "рейтинг - 8.0.  \n",
        "Добавьте эти значения в список методом extend() в том же порядке. Результат выведите на экран"
      ]
    },
    {
      "cell_type": "code",
      "execution_count": null,
      "id": "6309446a-6853-4c05-a8e2-338c184f82a9",
      "metadata": {
        "id": "6309446a-6853-4c05-a8e2-338c184f82a9"
      },
      "outputs": [],
      "source": [
        "book_remarque = [\"Три товарища\", \"Эрих Мария Ремарк\", \"роман\"]\n",
        "\n",
        "# используйте метод extend() здесь\n",
        "# выведите список на экран здесь"
      ]
    },
    {
      "cell_type": "markdown",
      "id": "Niq4JvSQoHBV",
      "metadata": {
        "id": "Niq4JvSQoHBV"
      },
      "source": [
        "## 4.9 - дополнительно"
      ]
    },
    {
      "cell_type": "markdown",
      "id": "cb3f59f4-1e05-4ad2-b407-81e9b9427c9e",
      "metadata": {
        "id": "cb3f59f4-1e05-4ad2-b407-81e9b9427c9e"
      },
      "source": [
        "Отсортируйте список `book_title` по возрастанию. Выведите результат на экран."
      ]
    },
    {
      "cell_type": "code",
      "execution_count": null,
      "id": "a7fa1c21-a6c2-4370-a5f6-d5e23193c587",
      "metadata": {
        "id": "a7fa1c21-a6c2-4370-a5f6-d5e23193c587"
      },
      "outputs": [],
      "source": [
        "book_title = [\n",
        "    \"Лестница Якова\",\n",
        "    \"Зулейха открывает глаза\",\n",
        "    \"Русская канарейка\",\n",
        "    \"Лавр\",\n",
        "    \"Шантарам\",\n",
        "    \"Авиатор\",\n",
        "    \"Таинственная страсть\",\n",
        "    \"До встречи с тобой\",\n",
        "    \"С неба упали три яблока\",\n",
        "]\n",
        "\n",
        "# сортировка списка - код здесь\n",
        "# выведите список на экран - код здесь"
      ]
    },
    {
      "cell_type": "markdown",
      "id": "iCze1WW4oJU9",
      "metadata": {
        "id": "iCze1WW4oJU9"
      },
      "source": [
        "## 4.10 - дополнительно"
      ]
    },
    {
      "cell_type": "markdown",
      "id": "xCUZTM_ynkS_",
      "metadata": {
        "id": "xCUZTM_ynkS_"
      },
      "source": [
        "С помощью метода `index()` найдите номер элемента списка `book_dostoevsky` c датой первой публикации романа. Сохраните индекс в переменной `publish_year` и выведите её на экран."
      ]
    },
    {
      "cell_type": "code",
      "execution_count": null,
      "id": "406f8156-06f4-477c-ad32-adc848dfa471",
      "metadata": {
        "id": "406f8156-06f4-477c-ad32-adc848dfa471"
      },
      "outputs": [],
      "source": [
        "book_dostoevsky = [\n",
        "    \"Братья Карамазовы\",\n",
        "    \"Фёдор Достоевский\",\n",
        "    \"роман\",\n",
        "    1880,\n",
        "    \"Русский вестник\",\n",
        "    6.0,\n",
        "    \"Россия\",\n",
        "]\n",
        "\n",
        "# publish_year = ваш код здесь\n",
        "# выведите переменую на экран"
      ]
    },
    {
      "cell_type": "markdown",
      "id": "Wz-VWPp7oLq4",
      "metadata": {
        "id": "Wz-VWPp7oLq4"
      },
      "source": [
        "## 4.11 - дополнительно"
      ]
    },
    {
      "cell_type": "markdown",
      "id": "84bf241f-0f7f-45a1-98f8-4fc5396fb6b5",
      "metadata": {
        "id": "84bf241f-0f7f-45a1-98f8-4fc5396fb6b5"
      },
      "source": [
        "Разбейте строку `book_author`  на список слов с фамилиями писателей. Разделителем служит символ `-` . Сохраните результат в переменной `great_writers` и выведите его на экран."
      ]
    },
    {
      "cell_type": "code",
      "execution_count": null,
      "id": "d4765bc7-34f7-4bdc-a3ee-9d66c053124d",
      "metadata": {
        "id": "d4765bc7-34f7-4bdc-a3ee-9d66c053124d"
      },
      "outputs": [],
      "source": [
        "book_author = \"Пушкин-Лермонтов-Достоевский-Толстой\"\n",
        "\n",
        "# great_writers = ваш код здесь\n",
        "# выведите получившийся список здесь"
      ]
    },
    {
      "cell_type": "markdown",
      "id": "Kmcon33NoORX",
      "metadata": {
        "id": "Kmcon33NoORX"
      },
      "source": [
        "## 4.12 - дополнительно"
      ]
    },
    {
      "cell_type": "markdown",
      "id": "457da2c0-78cc-4883-9aa7-33a44f1e30de",
      "metadata": {
        "id": "457da2c0-78cc-4883-9aa7-33a44f1e30de"
      },
      "source": [
        "В переменной number содержится число с десятичной частью но в формате строки. В переменную int_num сохраните целое число, которое равняется десятичной части числа number. Выведите результат с помощью функции print().  \n",
        "Если в number = '5.75', то int_num = 75."
      ]
    },
    {
      "cell_type": "code",
      "execution_count": null,
      "id": "c157cc73-f697-464a-ae03-2cd0fba7f007",
      "metadata": {
        "id": "c157cc73-f697-464a-ae03-2cd0fba7f007"
      },
      "outputs": [],
      "source": [
        "number = \"6.4\"\n",
        "\n",
        "# ваш код здесь"
      ]
    },
    {
      "cell_type": "markdown",
      "id": "EzmeqkqhoSpt",
      "metadata": {
        "id": "EzmeqkqhoSpt"
      },
      "source": [
        "## 4.13 - дополнительно"
      ]
    },
    {
      "cell_type": "markdown",
      "id": "3b2bf8b2-91d2-4e50-9c22-97f36671d00c",
      "metadata": {
        "id": "3b2bf8b2-91d2-4e50-9c22-97f36671d00c"
      },
      "source": [
        "В переменную sentenсe сохранено предложение с лишними пробелами.  Напишите код, который будет убирать из sentenсe лишние пробелы и сохранять результат в переменную result.\n",
        "Все слова должны быть разделены одним пробелом, а в начале и конце предложения пробелов быть не должно  \n",
        "\n",
        "*Подсказка:*  \n",
        "используйте для решения строковые методы split() и join()."
      ]
    },
    {
      "cell_type": "code",
      "execution_count": null,
      "id": "2d85c46d-59d5-4daf-9e43-884472a2d8a1",
      "metadata": {
        "id": "2d85c46d-59d5-4daf-9e43-884472a2d8a1"
      },
      "outputs": [],
      "source": [
        "sentenсe = \"Как  здорово,       что  все мы здесь   сегодня   собрались.  \"\n",
        "\n",
        "# ваш код здесь"
      ]
    },
    {
      "cell_type": "markdown",
      "id": "6AtmoVPyoU-h",
      "metadata": {
        "id": "6AtmoVPyoU-h"
      },
      "source": [
        "## 4.14 - дополнительно"
      ]
    },
    {
      "cell_type": "markdown",
      "id": "a7cb4f8b-a526-4b64-8a4e-a496ac9f0738",
      "metadata": {
        "id": "a7cb4f8b-a526-4b64-8a4e-a496ac9f0738"
      },
      "source": [
        "Даны два списка numbers_1 и numbers_2. Отсортируйте numbers_1 по возрастанию, а numbers_2 по убыванию.   \n",
        "Объедините numbers_1 и numbers_2 в один отсортированный по возрастанию список numbers_3.    \n",
        "В переменную numbers_3_len сохраните длину numbers_3.  \n",
        "Выведите результат (numbers_3 и numbers_3_len) на экран, используя print().  "
      ]
    },
    {
      "cell_type": "code",
      "execution_count": null,
      "id": "11de37ee-936c-4833-8acf-5136a5c39262",
      "metadata": {
        "id": "11de37ee-936c-4833-8acf-5136a5c39262"
      },
      "outputs": [],
      "source": [
        "numbers_1 = [5, 2, 8, 1, 9]\n",
        "numbers_2 = [10, 4, 7, 3, 6]\n",
        "\n",
        "# ваш код здесь"
      ]
    },
    {
      "cell_type": "markdown",
      "id": "113de96b-7aca-4bc1-8baf-e7dd22e34084",
      "metadata": {
        "id": "113de96b-7aca-4bc1-8baf-e7dd22e34084"
      },
      "source": [
        "С помощью оператора `+` сложите два списка в том же порядке, в котором они объявлены. Сохраните результат в переменной `book_dostoevsky` и выведите на экран её содержимое."
      ]
    },
    {
      "cell_type": "markdown",
      "id": "CU946oAXIm4l",
      "metadata": {
        "id": "CU946oAXIm4l"
      },
      "source": [
        "# Цикл for"
      ]
    },
    {
      "cell_type": "markdown",
      "id": "C4uXtdIKopqs",
      "metadata": {
        "id": "C4uXtdIKopqs"
      },
      "source": [
        "## 5.1"
      ]
    },
    {
      "cell_type": "markdown",
      "id": "hVUPettSIm40",
      "metadata": {
        "id": "hVUPettSIm40"
      },
      "source": [
        "Используя перебор индексов, перед наименованием каждой книги в списке `fantasy_novel` выведите жанр книги ('жанр фентези: ')."
      ]
    },
    {
      "cell_type": "code",
      "execution_count": null,
      "id": "xOEHgfdEIm41",
      "metadata": {
        "id": "xOEHgfdEIm41"
      },
      "outputs": [],
      "source": [
        "fantasy_novel = [\"Ночной Дозор\", \"Игра престолов\", \"Вино из одуванчиков\"]\n",
        "# ваш код здесь"
      ]
    },
    {
      "cell_type": "markdown",
      "id": "H3nLpsxIou1Z",
      "metadata": {
        "id": "H3nLpsxIou1Z"
      },
      "source": [
        "## 5.2"
      ]
    },
    {
      "cell_type": "markdown",
      "id": "SHM6HWwrIm41",
      "metadata": {
        "id": "SHM6HWwrIm41"
      },
      "source": [
        "В списке prices - цена книги \"Заводной апельсин\" в различных магазинах.\n",
        "Найдите разницу между минимальной и максимальной стоимость книги, запишите результат в переменную difference.\n",
        "\n",
        "*Подсказка:*  \n",
        "Для нахождения экстремумов используйте функции min() и max()"
      ]
    },
    {
      "cell_type": "code",
      "execution_count": null,
      "id": "cLljKB5zIm42",
      "metadata": {
        "id": "cLljKB5zIm42"
      },
      "outputs": [],
      "source": [
        "prices = [513, 269, 283, 638, 452]\n",
        "# ваш код здесь"
      ]
    },
    {
      "cell_type": "markdown",
      "id": "VZPOTElHo3SE",
      "metadata": {
        "id": "VZPOTElHo3SE"
      },
      "source": [
        "## 5.3"
      ]
    },
    {
      "cell_type": "markdown",
      "id": "9f71e5df-54ac-485d-a6fd-f490bd2cc845",
      "metadata": {
        "id": "9f71e5df-54ac-485d-a6fd-f490bd2cc845"
      },
      "source": [
        "В переменных start и stop хранятся числа — начало и конец диапазона. Напишите программу, которая вернет сумму всех чисел из этого диапазона. Сохраните значение в переменную result и выведите ее на экран с помощью print().  \n",
        "\n",
        "*Подсказка:*  \n",
        "Используйте объект range()"
      ]
    },
    {
      "cell_type": "code",
      "execution_count": null,
      "id": "bfcfec4a-d69a-4d93-9a8a-73132d4aa0de",
      "metadata": {
        "id": "bfcfec4a-d69a-4d93-9a8a-73132d4aa0de"
      },
      "outputs": [],
      "source": [
        "start = 100\n",
        "stop = 500\n",
        "\n",
        "# ваш код здесь"
      ]
    },
    {
      "cell_type": "markdown",
      "id": "efe7wYwMo6SF",
      "metadata": {
        "id": "efe7wYwMo6SF"
      },
      "source": [
        "## 5.4"
      ]
    },
    {
      "cell_type": "markdown",
      "id": "d3648246-26fc-4f6d-9998-f9c2e1776b11",
      "metadata": {
        "id": "d3648246-26fc-4f6d-9998-f9c2e1776b11"
      },
      "source": [
        "В списке salaries содержатся данные о фиксированной части оплаты сотрудников отдела продаж. В текущем месяце план продаж был перевыполнен. Премия каждого менеджера составила 34% фиксированного уровня. Рассчитайте итоговую оплату, которую получит каждый сотрудник, и запишите результат в список total_salary"
      ]
    },
    {
      "cell_type": "code",
      "execution_count": null,
      "id": "59d38ede-04f0-4ddd-8b7a-5c6608b1d28a",
      "metadata": {
        "id": "59d38ede-04f0-4ddd-8b7a-5c6608b1d28a"
      },
      "outputs": [],
      "source": [
        "salaries = [63000, 65000, 69000, 71000]\n",
        "# ваш код здесь"
      ]
    },
    {
      "cell_type": "markdown",
      "id": "F1opcXpyo_Y9",
      "metadata": {
        "id": "F1opcXpyo_Y9"
      },
      "source": [
        "## 5.5"
      ]
    },
    {
      "cell_type": "markdown",
      "id": "900d5e84-2449-4243-8e42-940304fc5a7c",
      "metadata": {
        "id": "900d5e84-2449-4243-8e42-940304fc5a7c"
      },
      "source": [
        "В списке client_num находится информация об изменении численности когорты покупателей, то есть количество покупателей в месяц первой, второй и далее покупки. Рассчитайте возвращаемость клиентов относительно месяца первой покупки **в процентах**, результат округлите до 1 знака после запятой и запишите в список retention_rate. Выведите список retention_rate на просмотр с помощью функции print()."
      ]
    },
    {
      "cell_type": "code",
      "execution_count": null,
      "id": "8713ffc2-15be-4c97-b9cd-b6339d2bd6e4",
      "metadata": {
        "id": "8713ffc2-15be-4c97-b9cd-b6339d2bd6e4"
      },
      "outputs": [],
      "source": [
        "client_num = [366, 294, 267, 209, 232, 250, 301, 145, 165, 150]\n",
        "\n",
        "# ваш код здесь"
      ]
    },
    {
      "cell_type": "markdown",
      "id": "knR-1GeyIr79",
      "metadata": {
        "id": "knR-1GeyIr79"
      },
      "source": [
        "# Вложенные списки"
      ]
    },
    {
      "cell_type": "markdown",
      "id": "TuNoLJyrpYr8",
      "metadata": {
        "id": "TuNoLJyrpYr8"
      },
      "source": [
        "## 6.1"
      ]
    },
    {
      "cell_type": "markdown",
      "id": "u62LW_PXIr8E",
      "metadata": {
        "id": "u62LW_PXIr8E"
      },
      "source": [
        "Обратитесь к списку `book_table` и выведите на экран:\n",
        "- автора книги \"Лестница Якова\";  \n",
        "- год выхода романа \"Авиатор\";  \n",
        "- рейтинг книги «Призрак Канта».  \n",
        "Извлекайте элементы по индексу и выводите их функцией print(), каждый элемент на новой строке."
      ]
    },
    {
      "cell_type": "code",
      "execution_count": null,
      "id": "I8fRpfhFIr8E",
      "metadata": {
        "id": "I8fRpfhFIr8E"
      },
      "outputs": [],
      "source": [
        "book_table = [\n",
        "    [\"Географ глобус пропил\", \"Алексей Иванов\", \"роман\", 1997, \"РОССИЯ\", 5.0],\n",
        "    [\"Лестница Якова\", \"Людмила Улицкая\", \"роман\", 2015, \"РОССИЯ\", 1.0],\n",
        "    [\"Зулейха открывает глаза\", \"Гузель Яхина\", \"роман\", 2015, \"РОССИЯ\", 2.0],\n",
        "    [\"Русская канарейка\", \"Дина Рубина\", \"роман\", 2014, \"РОССИЯ\", 3.0],\n",
        "    [\"Обитель\", \"Захар Прилепин\", \"роман\", 2014, \"РОССИЯ\", 4.0],\n",
        "    [\"Авиатор\", \"Евгений Водолазкин\", \"роман\", 2016, \"РОССИЯ\", 8.0],\n",
        "    [\"Зимняя дорога\", \"Леонид Юзефович\", \"роман\", 2015, \"РОССИЯ\", 8.0],\n",
        "    [\"Призрак Канта\", \"Татьяна Устинова\", \"роман\", 2016, \"РОССИЯ\", 4.0],\n",
        "]\n",
        "\n",
        "# ваш код здесь"
      ]
    },
    {
      "cell_type": "markdown",
      "id": "pxjB_KxQpXcV",
      "metadata": {
        "id": "pxjB_KxQpXcV"
      },
      "source": [
        "## 6.2"
      ]
    },
    {
      "cell_type": "markdown",
      "id": "EyXZyBOdIr8E",
      "metadata": {
        "id": "EyXZyBOdIr8E"
      },
      "source": [
        "Выведите на экран столбец с именами авторов книг таблицы `book_table`. Каждое значение выводите на новой строке."
      ]
    },
    {
      "cell_type": "code",
      "execution_count": null,
      "id": "koJm2WicIr8F",
      "metadata": {
        "id": "koJm2WicIr8F"
      },
      "outputs": [],
      "source": [
        "book_table = [\n",
        "    [\"Географ глобус пропил\", \"Алексей Иванов\", \"роман\", 1997, \"РОССИЯ\", 5.0],\n",
        "    [\"Лестница Якова\", \"Людмила Улицкая\", \"роман\", 2015, \"РОССИЯ\", 1.0],\n",
        "    [\"Зулейха открывает глаза\", \"Гузель Яхина\", \"роман\", 2015, \"РОССИЯ\", 2.0],\n",
        "    [\"Русская канарейка\", \"Дина Рубина\", \"роман\", 2014, \"РОССИЯ\", 3.0],\n",
        "    [\"Обитель\", \"Захар Прилепин\", \"роман\", 2014, \"РОССИЯ\", 4.0],\n",
        "    [\"Авиатор\", \"Евгений Водолазкин\", \"роман\", 2016, \"РОССИЯ\", 8.0],\n",
        "    [\"Зимняя дорога\", \"Леонид Юзефович\", \"роман\", 2015, \"РОССИЯ\", 8.0],\n",
        "    [\"Призрак Канта\", \"Татьяна Устинова\", \"роман\", 2016, \"РОССИЯ\", 4.0],\n",
        "]\n",
        "\n",
        "# ваш код здесь"
      ]
    },
    {
      "cell_type": "markdown",
      "id": "XdfTwo_xp9QB",
      "metadata": {
        "id": "XdfTwo_xp9QB"
      },
      "source": [
        "## 6.3"
      ]
    },
    {
      "cell_type": "markdown",
      "id": "6xQVfwiaIr8F",
      "metadata": {
        "id": "6xQVfwiaIr8F"
      },
      "source": [
        "Найдите средний рейтинг книг в списке списков `book_table`. Результат сохраните в переменную `avg_rating` и выведите ее на экран.  \n",
        "\n",
        "*Подсказка:*  \n",
        "Для расчета среднего рейтинга в цикле for необходимо рассчитать суммарный рейтинг всех книг и далее разделить его на длину списка book_table."
      ]
    },
    {
      "cell_type": "code",
      "execution_count": null,
      "id": "EloHBcQHIr8F",
      "metadata": {
        "id": "EloHBcQHIr8F"
      },
      "outputs": [],
      "source": [
        "book_table = [\n",
        "    [\"Географ глобус пропил\", \"Алексей Иванов\", \"роман\", 1997, \"РОССИЯ\", 5.0],\n",
        "    [\"Лестница Якова\", \"Людмила Улицкая\", \"роман\", 2015, \"РОССИЯ\", 1.0],\n",
        "    [\"Зулейха открывает глаза\", \"Гузель Яхина\", \"роман\", 2015, \"РОССИЯ\", 2.0],\n",
        "    [\"Русская канарейка\", \"Дина Рубина\", \"роман\", 2014, \"РОССИЯ\", 3.0],\n",
        "    [\"Обитель\", \"Захар Прилепин\", \"роман\", 2014, \"РОССИЯ\", 4.0],\n",
        "    [\"Авиатор\", \"Евгений Водолазкин\", \"роман\", 2016, \"РОССИЯ\", 8.0],\n",
        "    [\"Зимняя дорога\", \"Леонид Юзефович\", \"роман\", 2015, \"РОССИЯ\", 8.0],\n",
        "    [\"Призрак Канта\", \"Татьяна Устинова\", \"роман\", 2016, \"РОССИЯ\", 4.0],\n",
        "]\n",
        "\n",
        "# ваш код здесь"
      ]
    },
    {
      "cell_type": "markdown",
      "id": "C7UZtQGtqDjw",
      "metadata": {
        "id": "C7UZtQGtqDjw"
      },
      "source": [
        "## 6.4"
      ]
    },
    {
      "cell_type": "markdown",
      "id": "HYl_5Ch6Ir8F",
      "metadata": {
        "id": "HYl_5Ch6Ir8F"
      },
      "source": [
        "Отсортируйте список списков `book_table` по убыванию года издания книги, сохраните результат в переменную `book_table_sorted`. Выведите отсортированный список на экран - каждый подсписок на отдельной строке."
      ]
    },
    {
      "cell_type": "code",
      "execution_count": null,
      "id": "68fc9779-7dae-459a-a05f-fac8b8258f8b",
      "metadata": {
        "id": "68fc9779-7dae-459a-a05f-fac8b8258f8b"
      },
      "outputs": [],
      "source": [
        "book_table = [\n",
        "    [\"Географ глобус пропил\", \"Алексей Иванов\", \"роман\", 1997, \"РОССИЯ\", 5.0],\n",
        "    [\"Лестница Якова\", \"Людмила Улицкая\", \"роман\", 2015, \"РОССИЯ\", 1.0],\n",
        "    [\"Зулейха открывает глаза\", \"Гузель Яхина\", \"роман\", 2015, \"РОССИЯ\", 2.0],\n",
        "    [\"Русская канарейка\", \"Дина Рубина\", \"роман\", 2014, \"РОССИЯ\", 3.0],\n",
        "    [\"Обитель\", \"Захар Прилепин\", \"роман\", 2014, \"РОССИЯ\", 4.0],\n",
        "    [\"Авиатор\", \"Евгений Водолазкин\", \"роман\", 2016, \"РОССИЯ\", 8.0],\n",
        "    [\"Зимняя дорога\", \"Леонид Юзефович\", \"роман\", 2015, \"РОССИЯ\", 8.0],\n",
        "    [\"Призрак Канта\", \"Татьяна Устинова\", \"роман\", 2016, \"РОССИЯ\", 4.0],\n",
        "]\n",
        "\n",
        "# ваш код здесь"
      ]
    },
    {
      "cell_type": "markdown",
      "id": "S_cY1boJquzx",
      "metadata": {
        "id": "S_cY1boJquzx"
      },
      "source": [
        "## 6.5 - дополнительно"
      ]
    },
    {
      "cell_type": "markdown",
      "id": "3928b7e8-52f7-4dc7-9d7a-6efcb247bebb",
      "metadata": {
        "id": "3928b7e8-52f7-4dc7-9d7a-6efcb247bebb"
      },
      "source": [
        "Во вложенном списке salaries находится зарплата 5 сотрудников отдела продаж за каждый месяц первого квартала. Определите:   \n",
        "- суммарный фонд заработной платы отдела;\n",
        "- общую среднемесячную зарплату в **1 квартале** (округлите до целого).\n"
      ]
    },
    {
      "cell_type": "code",
      "execution_count": null,
      "id": "64fdd9bd-ab62-47ed-a6cf-e5cc0d095c20",
      "metadata": {
        "id": "64fdd9bd-ab62-47ed-a6cf-e5cc0d095c20"
      },
      "outputs": [],
      "source": [
        "salaries = [\n",
        "    [\"Багаева Галина\", 75000, 85000, 80000],\n",
        "    [\"Макарычев Юрий\", 76000, 82000, 85000],\n",
        "    [\"Михайлова Анна\", 77000, 87000, 90000],\n",
        "    [\"Рупасова Мария\", 78000, 84000, 88000],\n",
        "    [\"Кушнер Александр\", 77000, 88000, 89000],\n",
        "]\n",
        "\n",
        "# ваш код здесь"
      ]
    },
    {
      "cell_type": "markdown",
      "id": "HC5ytJP1I2-k",
      "metadata": {
        "id": "HC5ytJP1I2-k"
      },
      "source": [
        "# Словари"
      ]
    },
    {
      "cell_type": "markdown",
      "id": "A3R2bTZJwCQ5",
      "metadata": {
        "id": "A3R2bTZJwCQ5"
      },
      "source": [
        "## 7.1"
      ]
    },
    {
      "cell_type": "markdown",
      "id": "kMvlFNNLI2-4",
      "metadata": {
        "id": "kMvlFNNLI2-4"
      },
      "source": [
        "Запишите в переменную `be_stronger_app` стоимость приложения `Be Stronger`. Для этого извлеките значение из словаря по ключу. Выведите переменную на экран."
      ]
    },
    {
      "cell_type": "code",
      "execution_count": 77,
      "id": "1LDgLbj4I2-5",
      "metadata": {
        "id": "1LDgLbj4I2-5",
        "colab": {
          "base_uri": "https://localhost:8080/"
        },
        "outputId": "4f9d1d57-be8e-43a8-c851-067bbd8ba645"
      },
      "outputs": [
        {
          "output_type": "stream",
          "name": "stdout",
          "text": [
            "1.99\n"
          ]
        }
      ],
      "source": [
        "google_playstore_app_info = {\n",
        "    \"Pocket Yoga\": 2.99,\n",
        "    \"Meditation Studio\": 3.99,\n",
        "    \"Relax Melodies P: Sleep Sounds\": 2.99,\n",
        "    \"Lullaby Add-on for Sleep as Android\": 1.99,\n",
        "    \"Be Stronger\": 1.99,\n",
        "    \"Monitor My BP\": 5.99,\n",
        "    \"All-night drugstore CI & Price\": 0.99,\n",
        "    \"Tools & Mi Band\": 3.49,\n",
        "    \"Dr. McDougall Mobile Cookbook\": 4.99,\n",
        "    \"Vital Tones EI Pro\": 9.99,\n",
        "    \"The EO Bar\": 6.99,\n",
        "    \"EO Guide\": 4.99,\n",
        "    \"Fast Tract mDiet\": 7.99,\n",
        "}\n",
        "\n",
        "be_stronger_app = google_playstore_app_info[\"Be Stronger\"]\n",
        "print(be_stronger_app)"
      ]
    },
    {
      "cell_type": "markdown",
      "id": "88wjDCrLwGyP",
      "metadata": {
        "id": "88wjDCrLwGyP"
      },
      "source": [
        "## 7.2"
      ]
    },
    {
      "cell_type": "markdown",
      "id": "gIm0ff2NI2-5",
      "metadata": {
        "id": "gIm0ff2NI2-5"
      },
      "source": [
        "Извлеките из словаря `google_playstore_app_info` цену приложения `Fast Tract mDiet` безопасным методом get()."
      ]
    },
    {
      "cell_type": "code",
      "execution_count": 78,
      "id": "PtCl3NdAI2-6",
      "metadata": {
        "id": "PtCl3NdAI2-6",
        "colab": {
          "base_uri": "https://localhost:8080/"
        },
        "outputId": "54e9668b-e5cf-4cb3-95ad-28cb8cb92745"
      },
      "outputs": [
        {
          "output_type": "stream",
          "name": "stdout",
          "text": [
            "7.99\n"
          ]
        }
      ],
      "source": [
        "google_playstore_app_info = {\n",
        "    \"Pocket Yoga\": 2.99,\n",
        "    \"Meditation Studio\": 3.99,\n",
        "    \"Relax Melodies P: Sleep Sounds\": 2.99,\n",
        "    \"Lullaby Add-on for Sleep as Android\": 1.99,\n",
        "    \"Be Stronger\": 1.99,\n",
        "    \"Monitor My BP\": 5.99,\n",
        "    \"All-night drugstore CI & Price\": 0.99,\n",
        "    \"Tools & Mi Band\": 3.49,\n",
        "    \"Dr. McDougall Mobile Cookbook\": 4.99,\n",
        "    \"Vital Tones EI Pro\": 9.99,\n",
        "    \"The EO Bar\": 6.99,\n",
        "    \"EO Guide\": 4.99,\n",
        "    \"Fast Tract mDiet\": 7.99,\n",
        "}\n",
        "print(google_playstore_app_info.get(\"Fast Tract mDiet\"))"
      ]
    },
    {
      "cell_type": "markdown",
      "id": "0PyONiOlwK3i",
      "metadata": {
        "id": "0PyONiOlwK3i"
      },
      "source": [
        "## 7.3"
      ]
    },
    {
      "cell_type": "markdown",
      "id": "54HU58dhI2-6",
      "metadata": {
        "id": "54HU58dhI2-6"
      },
      "source": [
        "Добавьте в словарь google_playstore_app_info новый элемент c ключом 'Daily Ab Workout' и значением — 1.99. Выведите измененный словарь на экран."
      ]
    },
    {
      "cell_type": "code",
      "execution_count": 81,
      "id": "4KzhbfaAI2-7",
      "metadata": {
        "id": "4KzhbfaAI2-7",
        "colab": {
          "base_uri": "https://localhost:8080/"
        },
        "outputId": "a0a49756-f78f-40c9-812e-693cfd3501e3"
      },
      "outputs": [
        {
          "output_type": "stream",
          "name": "stdout",
          "text": [
            "{'Pocket Yoga': 2.99, 'Meditation Studio': 3.99, 'Relax Melodies P: Sleep Sounds': 2.99, 'Lullaby Add-on for Sleep as Android': 1.99, 'Be Stronger': 1.99, 'Monitor My BP': 5.99, 'All-night drugstore CI & Price': 0.99, 'Tools & Mi Band': 3.49, 'Dr. McDougall Mobile Cookbook': 4.99, 'Vital Tones EI Pro': 9.99, 'The EO Bar': 6.99, 'EO Guide': 4.99, 'Fast Tract mDiet': 7.99, 'Daily Ab Workout': 1.99}\n"
          ]
        }
      ],
      "source": [
        "google_playstore_app_info = {\n",
        "    \"Pocket Yoga\": 2.99,\n",
        "    \"Meditation Studio\": 3.99,\n",
        "    \"Relax Melodies P: Sleep Sounds\": 2.99,\n",
        "    \"Lullaby Add-on for Sleep as Android\": 1.99,\n",
        "    \"Be Stronger\": 1.99,\n",
        "    \"Monitor My BP\": 5.99,\n",
        "    \"All-night drugstore CI & Price\": 0.99,\n",
        "    \"Tools & Mi Band\": 3.49,\n",
        "    \"Dr. McDougall Mobile Cookbook\": 4.99,\n",
        "    \"Vital Tones EI Pro\": 9.99,\n",
        "    \"The EO Bar\": 6.99,\n",
        "    \"EO Guide\": 4.99,\n",
        "    \"Fast Tract mDiet\": 7.99,\n",
        "}\n",
        "\n",
        "google_playstore_app_info[\"Daily Ab Workout\"] = 1.99\n",
        "print(google_playstore_app_info)"
      ]
    },
    {
      "cell_type": "markdown",
      "id": "M1Xe8be_wMa5",
      "metadata": {
        "id": "M1Xe8be_wMa5"
      },
      "source": [
        "## 7.4"
      ]
    },
    {
      "cell_type": "markdown",
      "id": "wC_i_xivI2-7",
      "metadata": {
        "id": "wC_i_xivI2-7"
      },
      "source": [
        "Рассчитайте среднюю стоимость приложения в категории \"Health & Fitness\", запишите ее в переменную `avg_price`, округлив до второго знака после запятой, и выведите на экран.  \n",
        "В решении используйте перебор значений. Дла расчета среднего используйте функцию `len()`."
      ]
    },
    {
      "cell_type": "code",
      "execution_count": null,
      "id": "VBknI9XpI2-7",
      "metadata": {
        "id": "VBknI9XpI2-7"
      },
      "outputs": [],
      "source": [
        "health_and_fitness_app_info = {\n",
        "    \"Pocket Yoga\": 2.99,\n",
        "    \"Meditation Studio\": 3.99,\n",
        "    \"Relax Melodies P: Sleep Sounds\": 2.99,\n",
        "    \"Lullaby Add-on for Sleep as Android\": 1.99,\n",
        "    \"Be Stronger\": 1.99,\n",
        "    \"Monitor My BP\": 5.99,\n",
        "    \"All-night drugstore CI & Price\": 0.99,\n",
        "    \"Tools & Mi Band\": 3.49,\n",
        "    \"Dr. McDougall Mobile Cookbook\": 4.99,\n",
        "    \"Vital Tones EI Pro\": 9.99,\n",
        "    \"The EO Bar\": 6.99,\n",
        "    \"EO Guide\": 4.99,\n",
        "    \"Fast Tract mDiet\": 7.99,\n",
        "    \"Daily Ab Workout\": 1.99,\n",
        "}\n",
        "\n",
        "# рассчитайте суммарную цену всех приложений total_sale, используя перебор значений словаря\n",
        "# рассчитайте среднюю цену, разделив сумму на количество приложений в словаре (используя функцию len())\n",
        "# вывести avg_price на экран"
      ]
    },
    {
      "cell_type": "markdown",
      "id": "Ql5qEUPcwOIo",
      "metadata": {
        "id": "Ql5qEUPcwOIo"
      },
      "source": [
        "## 7.5"
      ]
    },
    {
      "cell_type": "markdown",
      "id": "7c39c6d2-6f6d-4d9b-84f9-75008ba55548",
      "metadata": {
        "id": "7c39c6d2-6f6d-4d9b-84f9-75008ba55548"
      },
      "source": [
        "Найдите максимальную стоимость приложения в словаре health_and_fitness_app_info, запишите результат в переменной result. Выведите результат, используя print()."
      ]
    },
    {
      "cell_type": "code",
      "execution_count": null,
      "id": "84d958f2-91a5-4936-a051-8a6f370235a1",
      "metadata": {
        "id": "84d958f2-91a5-4936-a051-8a6f370235a1"
      },
      "outputs": [],
      "source": [
        "# ответ\n",
        "health_and_fitness_app_info = {\n",
        "    \"Pocket Yoga\": 2.99,\n",
        "    \"Meditation Studio\": 3.99,\n",
        "    \"Relax Melodies P: Sleep Sounds\": 2.99,\n",
        "    \"Lullaby Add-on for Sleep as Android\": 1.99,\n",
        "    \"Be Stronger\": 1.99,\n",
        "    \"Monitor My BP\": 5.99,\n",
        "    \"All-night drugstore CI & Price\": 0.99,\n",
        "    \"Tools & Mi Band\": 3.49,\n",
        "    \"Dr. McDougall Mobile Cookbook\": 4.99,\n",
        "    \"Vital Tones EI Pro\": 9.99,\n",
        "    \"The EO Bar\": 6.99,\n",
        "    \"EO Guide\": 4.99,\n",
        "    \"Fast Tract mDiet\": 7.99,\n",
        "    \"Daily Ab Workout\": 1.99,\n",
        "}\n",
        "\n",
        "# ваш код здесь"
      ]
    },
    {
      "cell_type": "markdown",
      "id": "I-xSxOp6wQGN",
      "metadata": {
        "id": "I-xSxOp6wQGN"
      },
      "source": [
        "## 7.6"
      ]
    },
    {
      "cell_type": "markdown",
      "id": "81bc9c64-7ea8-4d27-9a5f-cc0654533451",
      "metadata": {
        "id": "81bc9c64-7ea8-4d27-9a5f-cc0654533451"
      },
      "source": [
        "У нас  есть словарь data, в котором содержится информация о себестоимости единицы товара cost_price, продажную цену sell_price и количество товара quantity.\n",
        "Нужно посчитать, какую прибыль получает компания после продажи своей продукции.  \n",
        "Результат сохраните в переменную result, округлив сумму до целого числа.  \n",
        "Выведите результат, используя print()."
      ]
    },
    {
      "cell_type": "code",
      "execution_count": null,
      "id": "ddb6d4d7-6e4c-4072-b707-7285400dc39f",
      "metadata": {
        "id": "ddb6d4d7-6e4c-4072-b707-7285400dc39f"
      },
      "outputs": [],
      "source": [
        "data = {\"cost_price\": 240.90, \"sell_price\": 450.60, \"quantity\": 120}\n",
        "\n",
        "# ваш код здесь"
      ]
    },
    {
      "cell_type": "markdown",
      "id": "sZBtwXDgwRgh",
      "metadata": {
        "id": "sZBtwXDgwRgh"
      },
      "source": [
        "## 7.7 - дополнительно"
      ]
    },
    {
      "cell_type": "markdown",
      "id": "fa250366-d9ff-492d-b3fa-1e48355179f1",
      "metadata": {
        "id": "fa250366-d9ff-492d-b3fa-1e48355179f1"
      },
      "source": [
        "Cловарь student содержит имя студента и список c баллами по курсу.  \n",
        "В result сохраните словарь с ключами: имя студента (name) и максимальный балл (max_score).  \n",
        "Выведите переменную result на просмотр.\n",
        "\n",
        "```student = {\"name\": \"Ivan\", \"score\": [70, 75, 60]}```  \n",
        "```result = {\"name\": \"Ivan\", \"max_score\": 75}```"
      ]
    },
    {
      "cell_type": "code",
      "execution_count": null,
      "id": "91405152-4ca6-468c-b57d-ad6f8a60ca50",
      "metadata": {
        "id": "91405152-4ca6-468c-b57d-ad6f8a60ca50"
      },
      "outputs": [],
      "source": [
        "student = {\"name\": \"Oleg\", \"score\": [80, 92, 78, 75, 91, 84, 86]}\n",
        "# ваш код здесь"
      ]
    },
    {
      "cell_type": "markdown",
      "id": "FVaIew0DwS4S",
      "metadata": {
        "id": "FVaIew0DwS4S"
      },
      "source": [
        "## 7.8 - дополнительно"
      ]
    },
    {
      "cell_type": "markdown",
      "id": "c04150b3-5b8d-4d91-820b-f919362e7348",
      "metadata": {
        "id": "c04150b3-5b8d-4d91-820b-f919362e7348"
      },
      "source": [
        "В словаре stud_courses хранится информация о пройденных курсах и набранных баллах в академии data-diving: statistics, prob_theory, data_viz. Ключ - название курса, значение - количество набранных баллов. Студент прошел курс ab_test и набрал 100 баллов.  Добавьте в словарь stud_courses эту информацию.\n",
        "\n",
        "В переменную courses сохраните список пройденных курсов.  \n",
        "В переменную data_viz сохраните количество баллов, набранное на одноименном курсе.  \n",
        "\n",
        "Переменные выведите на экран с помощью print()."
      ]
    },
    {
      "cell_type": "code",
      "execution_count": null,
      "id": "77380c03-7b44-4b97-ab3c-08103c4f8e4e",
      "metadata": {
        "id": "77380c03-7b44-4b97-ab3c-08103c4f8e4e"
      },
      "outputs": [],
      "source": [
        "stud_courses = {\"statistics\": 80, \"prob_theory\": 72, \"data_viz\": 90}\n",
        "# ваш код здесь"
      ]
    },
    {
      "cell_type": "markdown",
      "id": "jVCF61jYJAvv",
      "metadata": {
        "id": "jVCF61jYJAvv"
      },
      "source": [
        "# Список словарей"
      ]
    },
    {
      "cell_type": "markdown",
      "id": "Ce9u4tU_1TOm",
      "metadata": {
        "id": "Ce9u4tU_1TOm"
      },
      "source": [
        "## 8.1"
      ]
    },
    {
      "cell_type": "markdown",
      "id": "rywBrjnOJAwB",
      "metadata": {
        "id": "rywBrjnOJAwB"
      },
      "source": [
        "В списке словарей `orders` содержится информация о заказах товаров в приложении:  \n",
        "`item` - наименование товара;  \n",
        "`quantity` - количество;  \n",
        "`price` - цена за единицу товара.  \n",
        "Скидка покупателя в текущем месяце - 10%.  \n",
        "Рассчитайте общую стоимость проданных товаров с учётом скидки.\n",
        "Результат запишите в переменную `revenue` и выведите ее на просмотр, используя print()."
      ]
    },
    {
      "cell_type": "code",
      "execution_count": null,
      "id": "beZV-OX8JAwC",
      "metadata": {
        "id": "beZV-OX8JAwC"
      },
      "outputs": [],
      "source": [
        "orders = [\n",
        "    {\n",
        "        \"item\": \"Молоко Parmalat\",  # наименование товара\n",
        "        \"quantity\": 3,  # количество единиц в заказе\n",
        "        \"price\": 170,  # цена за единицу товара\n",
        "    },\n",
        "    {\n",
        "        \"item\": \"Нектарин\",  # наименование товара\n",
        "        \"quantity\": 1.5,  # количество единиц в заказе\n",
        "        \"price\": 280,  # цена за единицу товара\n",
        "    },\n",
        "    {\n",
        "        \"item\": \"Масло сливочное\",  # наименование товара\n",
        "        \"quantity\": 1,  # количество единиц в заказе\n",
        "        \"price\": 203,  # цена за единицу товара\n",
        "    },\n",
        "    {\n",
        "        \"item\": 'Хлебцы \"Зерновые\"',  # наименование товара\n",
        "        \"quantity\": 1,  # количество единиц в заказе\n",
        "        \"price\": 98,  # цена за единицу товара\n",
        "    },\n",
        "]\n",
        "\n",
        "discount = 0.1  # скидка"
      ]
    },
    {
      "cell_type": "code",
      "execution_count": null,
      "id": "6b6ef753-d1ed-4afc-bc6f-0a5f04da748b",
      "metadata": {
        "id": "6b6ef753-d1ed-4afc-bc6f-0a5f04da748b"
      },
      "outputs": [],
      "source": [
        "# ваш код здесь"
      ]
    },
    {
      "cell_type": "markdown",
      "id": "pqpqL41Q1i2Q",
      "metadata": {
        "id": "pqpqL41Q1i2Q"
      },
      "source": [
        "## 8.2"
      ]
    },
    {
      "cell_type": "markdown",
      "id": "13fe94bf-abb0-446a-a312-62df9653329e",
      "metadata": {
        "id": "13fe94bf-abb0-446a-a312-62df9653329e"
      },
      "source": [
        "Сформируйте список купленных товаров и запишите его в переменную `goods`.  \n",
        "Выведите полученные данные на просмотр."
      ]
    },
    {
      "cell_type": "code",
      "execution_count": null,
      "id": "e1c1e6f2-6718-4e6b-b772-107583803465",
      "metadata": {
        "id": "e1c1e6f2-6718-4e6b-b772-107583803465"
      },
      "outputs": [],
      "source": [
        "# ваш код здесь"
      ]
    },
    {
      "cell_type": "markdown",
      "id": "4einW9k-1r6Y",
      "metadata": {
        "id": "4einW9k-1r6Y"
      },
      "source": [
        "## 8.3 - дополнительно"
      ]
    },
    {
      "cell_type": "markdown",
      "id": "2d2689c2-4074-4d9d-9612-d9b7174daf49",
      "metadata": {
        "id": "2d2689c2-4074-4d9d-9612-d9b7174daf49"
      },
      "source": [
        "Рассчитайте сумму покупки для каждого товара (без учёта скидки) и запишите данные в список словарей orders. В каждом словаре должна появиться пара ключ 'total' - значение общая сумма покупки. Выведите обновленный словарь на просмотр.  "
      ]
    },
    {
      "cell_type": "code",
      "execution_count": null,
      "id": "5736c0e9-2c20-4f2f-ae33-0dc6c23ac5b8",
      "metadata": {
        "id": "5736c0e9-2c20-4f2f-ae33-0dc6c23ac5b8"
      },
      "outputs": [],
      "source": [
        "# ваш код здесь"
      ]
    },
    {
      "cell_type": "markdown",
      "id": "qKjMW9ma1uDm",
      "metadata": {
        "id": "qKjMW9ma1uDm"
      },
      "source": [
        "## 8.4 - дополнительно"
      ]
    },
    {
      "cell_type": "markdown",
      "id": "c6fbc2eb-db73-48fc-bd1d-8176e0e27f04",
      "metadata": {
        "id": "c6fbc2eb-db73-48fc-bd1d-8176e0e27f04"
      },
      "source": [
        "Найдите наибольшую сумму покупки и рассчитайте ее вес в общей сумме затрат.  \n",
        "Полученные результаты запишите в переменные max_value и ratio и выведите ответ в следующем формате:  \n",
        "*Наибольшая сумма покупки: 100, что составляет 50%.*\n",
        "\n",
        "*Подсказка:*   \n",
        "Для поиска максимального значения суммы сформируйте список из значений по ключу total и передайте его функции max().  \n",
        "Для ответа используйте f-строки."
      ]
    },
    {
      "cell_type": "code",
      "execution_count": null,
      "id": "79fa54c4-6f89-4b25-a1a3-66d935dcbb0c",
      "metadata": {
        "id": "79fa54c4-6f89-4b25-a1a3-66d935dcbb0c"
      },
      "outputs": [],
      "source": [
        "orders = [\n",
        "    {\"item\": \"Молоко Parmalat\", \"quantity\": 3, \"price\": 170, \"total\": 510},\n",
        "    {\"item\": \"Нектарин\", \"quantity\": 1.5, \"price\": 280, \"total\": 420.0},\n",
        "    {\"item\": \"Масло сливочное\", \"quantity\": 1, \"price\": 203, \"total\": 203},\n",
        "    {\"item\": 'Хлебцы \"Зерновые\"', \"quantity\": 1, \"price\": 98, \"total\": 98},\n",
        "]"
      ]
    },
    {
      "cell_type": "code",
      "execution_count": null,
      "id": "26fe5ccc-5cdf-4e43-a72f-305c6e70658a",
      "metadata": {
        "id": "26fe5ccc-5cdf-4e43-a72f-305c6e70658a"
      },
      "outputs": [],
      "source": [
        "# ваш код здесь"
      ]
    },
    {
      "cell_type": "markdown",
      "id": "0d1e46eb-e151-4182-9702-b08671af5ce8",
      "metadata": {
        "id": "0d1e46eb-e151-4182-9702-b08671af5ce8"
      },
      "source": [
        "# Логические выражения и операторы сравнения +  Условные конструкции"
      ]
    },
    {
      "cell_type": "markdown",
      "id": "cVKNnd6awYdy",
      "metadata": {
        "id": "cVKNnd6awYdy"
      },
      "source": [
        "## 9.1"
      ]
    },
    {
      "cell_type": "markdown",
      "id": "cd728e1a-dd18-44d8-9524-5c87369739e4",
      "metadata": {
        "id": "cd728e1a-dd18-44d8-9524-5c87369739e4"
      },
      "source": [
        "С помощью условного оператора проверьте рейтинг книги «Авиатор». Если он выше или равен 7.0, выведите на экран сообщение 'Высокий рейтинг', иначе — 'Обычный рейтинг'."
      ]
    },
    {
      "cell_type": "code",
      "execution_count": null,
      "id": "9beefe83-e66c-4e1e-98ea-5f73a5d462e1",
      "metadata": {
        "id": "9beefe83-e66c-4e1e-98ea-5f73a5d462e1"
      },
      "outputs": [],
      "source": [
        "book_rating = 8.0  # рейтинг книги \"Авиатор\"\n",
        "# ваш код здесь"
      ]
    },
    {
      "cell_type": "markdown",
      "id": "MhsYDdKowa1Z",
      "metadata": {
        "id": "MhsYDdKowa1Z"
      },
      "source": [
        "## 9.2"
      ]
    },
    {
      "cell_type": "markdown",
      "id": "78110b8c-1f4d-42ca-a7a8-fb3815c21af2",
      "metadata": {
        "id": "78110b8c-1f4d-42ca-a7a8-fb3815c21af2"
      },
      "source": [
        "Проверьте год публикации книги 'Русская канарейка':\n",
        "если книга напечатана после 2000 года, выведите на экран 'Да';\n",
        "если в 2000 году или раньше — 'Нет'.\n",
        "Для проверки используйте условный оператор и обратитесь к нужному элементу списка по индексу."
      ]
    },
    {
      "cell_type": "code",
      "execution_count": null,
      "id": "f52de12d-a729-4632-826f-8b197407f2cb",
      "metadata": {
        "id": "f52de12d-a729-4632-826f-8b197407f2cb"
      },
      "outputs": [],
      "source": [
        "book_info = [\"Русская канарейка\", \"Дина Рубина\", \"роман\", 2014, \"РОССИЯ\", 3.0]\n",
        "\n",
        "# ваш код здесь"
      ]
    },
    {
      "cell_type": "markdown",
      "id": "3q0MAB73wcah",
      "metadata": {
        "id": "3q0MAB73wcah"
      },
      "source": [
        "## 9.3"
      ]
    },
    {
      "cell_type": "markdown",
      "id": "a2295e4b-c548-4c8a-92a1-4e170a3e85f4",
      "metadata": {
        "id": "a2295e4b-c548-4c8a-92a1-4e170a3e85f4"
      },
      "source": [
        "Переменная `ratings` хранит оценки фильмов. С помощью цикла и условного оператора проклассифицируйте рейтинг по следующим правилам:  \n",
        "- низкий рейтинг: от 0 до 3;  \n",
        "- средний рейтинг: от 4 до 6;  \n",
        "- высокий рейтинг: свыше 7.  \n",
        "По мере прохождения по списку печатайте результаты на экране. Каждое присвоение рейтинга выводите на новой строке."
      ]
    },
    {
      "cell_type": "code",
      "execution_count": null,
      "id": "94bb00a5-eebc-4e70-8fdf-93e26dbb1833",
      "metadata": {
        "id": "94bb00a5-eebc-4e70-8fdf-93e26dbb1833"
      },
      "outputs": [],
      "source": [
        "ratings = [5.0, 1.0, 2.0, 3.0, 4.0, 8.0, 8.0]\n",
        "\n",
        "# ваш код здесь"
      ]
    },
    {
      "cell_type": "markdown",
      "id": "MaU87y3pweMv",
      "metadata": {
        "id": "MaU87y3pweMv"
      },
      "source": [
        "## 9.4"
      ]
    },
    {
      "cell_type": "markdown",
      "id": "023518b2-d2eb-443d-aa50-4b2c3715e1af",
      "metadata": {
        "id": "023518b2-d2eb-443d-aa50-4b2c3715e1af"
      },
      "source": [
        "В переменной city_name записано название города.  \n",
        "Напишите код, который определит, четно или нет количество символов в нем.   \n",
        "Если количество симоволов четное, выведите на экарн фразу: \"Количество символов в названии - четное.\", в противном случае: \"Количество символов в названии - нечетное.\"  \n",
        "\n",
        "*Подсказка:*  \n",
        "Для проверки четности можно использовать оператор %"
      ]
    },
    {
      "cell_type": "code",
      "execution_count": null,
      "id": "54384549-d774-4153-b51d-fb9f83409195",
      "metadata": {
        "id": "54384549-d774-4153-b51d-fb9f83409195"
      },
      "outputs": [],
      "source": [
        "city_name = \"Владивосток\"\n",
        "\n",
        "# ваш код здесь"
      ]
    },
    {
      "cell_type": "markdown",
      "id": "0Z1PPZI8wfgZ",
      "metadata": {
        "id": "0Z1PPZI8wfgZ"
      },
      "source": [
        "## 9.5"
      ]
    },
    {
      "cell_type": "markdown",
      "id": "b0c926b5-8a95-4d44-aa36-21002fa71286",
      "metadata": {
        "id": "b0c926b5-8a95-4d44-aa36-21002fa71286"
      },
      "source": [
        "В списке values содержатся числовые значения.  \n",
        "Создайте список tens и добавьте в него все числа из values, которые делятся на 10 нацело. Выведите результат для просмотра, используя print().  \n",
        "\n",
        "*Подсказка:*  \n",
        "Для решения можно использовать цикл for и проверку условия или list comprehension."
      ]
    },
    {
      "cell_type": "code",
      "execution_count": null,
      "id": "5906dbeb-fd5c-4a94-9a94-b7a540b2eedd",
      "metadata": {
        "id": "5906dbeb-fd5c-4a94-9a94-b7a540b2eedd"
      },
      "outputs": [],
      "source": [
        "values = [66, 40, 39, 60, 70, 69, 45, 72, 81, 61, 20]\n",
        "# ваш код здесь"
      ]
    },
    {
      "cell_type": "markdown",
      "id": "1lRZD4-Lwg_0",
      "metadata": {
        "id": "1lRZD4-Lwg_0"
      },
      "source": [
        "## 9.6"
      ]
    },
    {
      "cell_type": "markdown",
      "id": "e193e26b-d1d3-4adb-8037-8619f4226003",
      "metadata": {
        "id": "e193e26b-d1d3-4adb-8037-8619f4226003"
      },
      "source": [
        "В словарь rating записана информация о рейтинге учеников (ключ - имя ученика, значение - средний балл). В список excellent сохраните названия имена учеников, у которых средний рейтинг больше или равен 4.5.  "
      ]
    },
    {
      "cell_type": "code",
      "execution_count": null,
      "id": "a985cf0a-add0-494e-9615-7e13da76cd9d",
      "metadata": {
        "id": "a985cf0a-add0-494e-9615-7e13da76cd9d"
      },
      "outputs": [],
      "source": [
        "rating = {\n",
        "    \"Ivan\": 4.92,\n",
        "    \"Olga\": 4.57,\n",
        "    \"Alice\": 4.16,\n",
        "    \"Victor\": 4.52,\n",
        "    \"Andrey\": 4.75,\n",
        "    \"Julie\": 4.4,\n",
        "}\n",
        "\n",
        "# ваш код здесь"
      ]
    },
    {
      "cell_type": "markdown",
      "id": "ulOELv2_winG",
      "metadata": {
        "id": "ulOELv2_winG"
      },
      "source": [
        "## 9.7 - дополнительно"
      ]
    },
    {
      "cell_type": "markdown",
      "id": "081a06b1-a991-40ec-bf3f-e62dbd5ad1f8",
      "metadata": {
        "id": "081a06b1-a991-40ec-bf3f-e62dbd5ad1f8"
      },
      "source": [
        "В переменной student данные про студентов, ключ — фамилия, значение — число баллов за письменную работу. На конференции будут выступать студенты, которые набрали более 90 баллов. В список students_order запишите студентов, которые будут выступать на конференции. Очередность выступлений определяется сортировкой по фамилии.  \n",
        "\n"
      ]
    },
    {
      "cell_type": "code",
      "execution_count": null,
      "id": "191b1494-9844-43c2-ad6d-3bae13de8485",
      "metadata": {
        "id": "191b1494-9844-43c2-ad6d-3bae13de8485"
      },
      "outputs": [],
      "source": [
        "students = {\n",
        "    \"Шевчук\": 86,\n",
        "    \"Михалков\": 99,\n",
        "    \"Аксельрод\": 90,\n",
        "    \"Яснов\": 92,\n",
        "    \"Рупасова\": 94,\n",
        "    \"Савченко\": 88,\n",
        "}\n",
        "\n",
        "# ваш код здесь"
      ]
    },
    {
      "cell_type": "markdown",
      "id": "RlLLKnzCwlA0",
      "metadata": {
        "id": "RlLLKnzCwlA0"
      },
      "source": [
        "## 9.8 - дополнительно"
      ]
    },
    {
      "cell_type": "markdown",
      "id": "e42b147f-b74c-48ec-a6dc-6470fcbee1a6",
      "metadata": {
        "id": "e42b147f-b74c-48ec-a6dc-6470fcbee1a6"
      },
      "source": [
        "В списке cities записаны кортежи, содержащие название города и его население. Напишите код, который будет выводить на экран информацию о городах с населением выше 1 миллиона человек в следующем виде:  \n",
        "*Город N имеет население выше 1 миллиона человек*"
      ]
    },
    {
      "cell_type": "code",
      "execution_count": null,
      "id": "487706a8-c8e5-482e-b07c-6565b46c0740",
      "metadata": {
        "id": "487706a8-c8e5-482e-b07c-6565b46c0740"
      },
      "outputs": [],
      "source": [
        "cities = [\n",
        "    (\"Москва\", 12655050),\n",
        "    (\"Санкт-Петербург\", 5383890),\n",
        "    (\"Новосибирск\", 1625631),\n",
        "    (\"Екатеринбург\", 1493742),\n",
        "]\n",
        "\n",
        "# ваш код здесь"
      ]
    },
    {
      "cell_type": "markdown",
      "id": "sO6w4xXzwmb4",
      "metadata": {
        "id": "sO6w4xXzwmb4"
      },
      "source": [
        "## 9.9 - дополнительно"
      ]
    },
    {
      "cell_type": "markdown",
      "id": "b13138dd-5a2d-45c3-acdb-b40ba394b924",
      "metadata": {
        "id": "b13138dd-5a2d-45c3-acdb-b40ba394b924"
      },
      "source": [
        "В словаре revenue приведена информация о выручке магазина за каждый из 10 дней.  \n",
        "Определите, в какой день был получил максимальный доход. Выведите ответ на экран, используя print().  \n",
        "\n",
        "Обратите внимание, что максимальное значение выручки может быть одинаковым в разные дни."
      ]
    },
    {
      "cell_type": "code",
      "execution_count": null,
      "id": "6a6e6bd6-c67d-498f-9555-bf2ea9a1b316",
      "metadata": {
        "id": "6a6e6bd6-c67d-498f-9555-bf2ea9a1b316"
      },
      "outputs": [],
      "source": [
        "sales = {\n",
        "    \"2023-09-01\": 327,\n",
        "    \"2023-09-02\": 291,\n",
        "    \"2023-09-03\": 280,\n",
        "    \"2023-09-04\": 337,\n",
        "    \"2023-09-05\": 313,\n",
        "    \"2023-09-06\": 335,\n",
        "    \"2023-09-07\": 338,\n",
        "    \"2023-09-08\": 253,\n",
        "    \"2023-09-09\": 314,\n",
        "    \"2023-09-10\": 314,\n",
        "}\n",
        "\n",
        "# ваш код здесь"
      ]
    },
    {
      "cell_type": "markdown",
      "id": "bc022b2f-f4ec-4fd5-ba78-73e7e62358ac",
      "metadata": {
        "id": "bc022b2f-f4ec-4fd5-ba78-73e7e62358ac"
      },
      "source": [
        "# Цикл while"
      ]
    },
    {
      "cell_type": "markdown",
      "id": "5vhf-eCUwrAq",
      "metadata": {
        "id": "5vhf-eCUwrAq"
      },
      "source": [
        "## 10.1"
      ]
    },
    {
      "cell_type": "markdown",
      "id": "72fb3aae-33bc-42ed-b5fa-61e6bb0feb9a",
      "metadata": {
        "id": "72fb3aae-33bc-42ed-b5fa-61e6bb0feb9a"
      },
      "source": [
        "Используя цикл while, запишите в список my_list числа от 0 (n = 0) до 10 включительно (N = 10) c шагом 2 (dn = 2)."
      ]
    },
    {
      "cell_type": "code",
      "execution_count": null,
      "id": "f4a955fa-6bea-4ee4-b7a0-f5517fff3216",
      "metadata": {
        "id": "f4a955fa-6bea-4ee4-b7a0-f5517fff3216"
      },
      "outputs": [],
      "source": [
        "n = 0\n",
        "N = 10\n",
        "dn = 2\n",
        "\n",
        "# ваш код здесь"
      ]
    },
    {
      "cell_type": "markdown",
      "id": "DA0_8EAXws5u",
      "metadata": {
        "id": "DA0_8EAXws5u"
      },
      "source": [
        "## 10.2"
      ]
    },
    {
      "cell_type": "markdown",
      "id": "90606115-11b3-4f18-a7a9-ba57523f9d72",
      "metadata": {
        "id": "90606115-11b3-4f18-a7a9-ba57523f9d72"
      },
      "source": [
        "В переменной sales записаны данные о продажах по дням. В каждом вложенном кортеже: первый элемент - дата, второй элемент - выручка. Используя цикл while, рассчитайте **выручку за неделю**, запишите ее в переменную week_revenue и выведите на экран."
      ]
    },
    {
      "cell_type": "code",
      "execution_count": null,
      "id": "f7c6cff3-cefe-4219-bfc4-1dc491d4e047",
      "metadata": {
        "id": "f7c6cff3-cefe-4219-bfc4-1dc491d4e047"
      },
      "outputs": [],
      "source": [
        "sales = [\n",
        "    (\"2023-09-01\", 265),\n",
        "    (\"2023-09-02\", 289),\n",
        "    (\"2023-09-03\", 330),\n",
        "    (\"2023-09-04\", 341),\n",
        "    (\"2023-09-05\", 307),\n",
        "    (\"2023-09-06\", 296),\n",
        "    (\"2023-09-07\", 271),\n",
        "    (\"2023-09-08\", 317),\n",
        "    (\"2023-09-09\", 333),\n",
        "    (\"2023-09-10\", 255),\n",
        "]\n",
        "\n",
        "# ваш код здесь"
      ]
    },
    {
      "cell_type": "markdown",
      "id": "30ba7c85-dc22-494b-90d2-28d541c9ea7b",
      "metadata": {
        "id": "30ba7c85-dc22-494b-90d2-28d541c9ea7b"
      },
      "source": [
        "# Функции"
      ]
    },
    {
      "cell_type": "markdown",
      "id": "gLU-B_rSwvdR",
      "metadata": {
        "id": "gLU-B_rSwvdR"
      },
      "source": [
        "## 11.1"
      ]
    },
    {
      "cell_type": "markdown",
      "id": "d71771c9-b4d3-4868-8f13-b99e8c4bb383",
      "metadata": {
        "id": "d71771c9-b4d3-4868-8f13-b99e8c4bb383"
      },
      "source": [
        "Напишите функцию fahrenheit_to_celsius(), которая будет принимать в качестве аргумента температуру в градусах Фаренгейта и выводить на экран значение в градусах Цельсия. Формула для перевода: (Фаренгейт — 32) : 1,8 = Цельсий.  \n",
        "Вызовите функцию для температуры 68 F."
      ]
    },
    {
      "cell_type": "code",
      "execution_count": null,
      "id": "323d62f0-eaa3-475c-963b-697b020c0660",
      "metadata": {
        "id": "323d62f0-eaa3-475c-963b-697b020c0660"
      },
      "outputs": [],
      "source": [
        "# ваш код здесь"
      ]
    },
    {
      "cell_type": "markdown",
      "id": "Q4IDVpzJwxaq",
      "metadata": {
        "id": "Q4IDVpzJwxaq"
      },
      "source": [
        "## 11.2"
      ]
    },
    {
      "cell_type": "markdown",
      "id": "d2beae87-351e-480c-9cf8-cb9d37ca913e",
      "metadata": {
        "id": "d2beae87-351e-480c-9cf8-cb9d37ca913e"
      },
      "source": [
        "Напишите функцию get_avg_price(), которая принимает в качестве аргументов список цен, по которым производилась продажа, и возвращает среднюю цену продажи (точность - до копеек).  \n",
        "Используя функцию, рассчитайте среднюю цену для списка prices() и выведите значение на просмотр."
      ]
    },
    {
      "cell_type": "code",
      "execution_count": null,
      "id": "e372a8f8-6e4a-4559-8adf-0be41ab6220a",
      "metadata": {
        "id": "e372a8f8-6e4a-4559-8adf-0be41ab6220a"
      },
      "outputs": [],
      "source": [
        "prices = [52000, 52400, 53000, 51800, 52900, 52450, 53000]\n",
        "\n",
        "#  ваш код здесь"
      ]
    },
    {
      "cell_type": "markdown",
      "id": "nA26TkXuwytC",
      "metadata": {
        "id": "nA26TkXuwytC"
      },
      "source": [
        "## 11.3"
      ]
    },
    {
      "cell_type": "markdown",
      "id": "79523519-358d-4311-bfa1-e81dc933dec7",
      "metadata": {
        "id": "79523519-358d-4311-bfa1-e81dc933dec7"
      },
      "source": [
        "В строке host_verifications выгружена информация о том, какими способами пользователь подтвердил свой аккаунт - строковое представление списка. Напишите функцию parse_host_verification, которая преобразует его к настоящему списку, где в качестве элементов будут храниться использованные способы подтверждения аккаунта.  \n",
        "\"['email', 'phone', 'facebook']\" --> ['email', 'phone', 'facebook']  \n",
        "\n",
        "Используя функцию, преобразуйте host_verifications и выведите список на просмотр.  \n",
        "\n",
        "*Подсказка:*  \n",
        "Для работы со строкой используйте методы strip() - для удаления символов в начале и конце строки, replace() - для замены одной подстроки на другую, split() - для разделения строки на подстроки."
      ]
    },
    {
      "cell_type": "code",
      "execution_count": null,
      "id": "6e842d23-c79e-4aa0-8f16-8ad3e895984f",
      "metadata": {
        "id": "6e842d23-c79e-4aa0-8f16-8ad3e895984f"
      },
      "outputs": [],
      "source": [
        "host_verifications = \"['email', 'phone', 'facebook', 'reviews', 'selfie', 'government_id']\"\n",
        "\n",
        "# ваш код здесь"
      ]
    },
    {
      "cell_type": "markdown",
      "id": "gdutZU2zw0KO",
      "metadata": {
        "id": "gdutZU2zw0KO"
      },
      "source": [
        "## 11.4 - дополнительно"
      ]
    },
    {
      "cell_type": "markdown",
      "id": "b5e043f0-a924-49a8-9396-fd60ab3165db",
      "metadata": {
        "id": "b5e043f0-a924-49a8-9396-fd60ab3165db"
      },
      "source": [
        "В переменной stud_num содержится информация о количестве учеников в том или ином классе каждой параллели в начальной школе. Первый кортеж - информация о количестве учеников в первых классах, второй кортеж - во вторых и т.д. В каждой параллели - 4 класса.   \n",
        "Напишите функцию get_stud_avg, которая принимает в качестве параметра - список с информацией о количестве и возвращает среднее количество учеников в каждой параллели. Результат работы функции запишите в переменную stud_avg и выведите ее на просмотр."
      ]
    },
    {
      "cell_type": "code",
      "execution_count": null,
      "id": "c3ab64ae-c04d-4d62-a17d-5c040d304321",
      "metadata": {
        "id": "c3ab64ae-c04d-4d62-a17d-5c040d304321"
      },
      "outputs": [],
      "source": [
        "stud_num = [(27, 30, 25, 28), (29, 32, 26, 25), (24, 29, 25, 27), (28, 28, 29, 28)]\n",
        "\n",
        "# ваш код здесь"
      ]
    },
    {
      "cell_type": "markdown",
      "id": "Iip6FOitw1a1",
      "metadata": {
        "id": "Iip6FOitw1a1"
      },
      "source": [
        "## 11.5 - дополнительно"
      ]
    },
    {
      "cell_type": "markdown",
      "id": "f0576a94-5cc1-45d3-801c-8db86808aab2",
      "metadata": {
        "id": "f0576a94-5cc1-45d3-801c-8db86808aab2"
      },
      "source": [
        "Напишите функцию `filter_by_genre`, которая принимает два аргумента:  \n",
        "data: список списков с информацией о книгах,  \n",
        "genre: название жанра, по умолчанию — 'роман'.    \n",
        "Функция возвращает данные о книгах в определенном жанре.   \n",
        "\n",
        "Вызовите функцию и выведите на экран данные о книгах в жанре приключения.\n",
        "\n",
        "*Подсказка:*  \n",
        "1. В заголовке функции укажите значения genre по умолчанию — 'роман'.\n",
        "2. В теле функции создайте пустой список для результатов (books_table_filtered).\n",
        "3. В цикле for пройдите по строкам таблицы и проверяйте жанр — элемент с индексом 2. Если он равен значению genre — добавьте строку в список с результатами (функция `append()`).\n",
        "4. Верните список books_table_filtered с результатами через return."
      ]
    },
    {
      "cell_type": "code",
      "execution_count": null,
      "id": "f8bbc54e-0179-4708-b7d5-6f22b45bcf05",
      "metadata": {
        "id": "f8bbc54e-0179-4708-b7d5-6f22b45bcf05"
      },
      "outputs": [],
      "source": [
        "# название, автор, жанр, год, страна публикации, рейтинг\n",
        "book_table = [\n",
        "    [\"Любовь к трем цукербринам\", \"Виктор Пелевин\", \"антиутопия\", 2014, \"РОССИЯ\", 1.0],\n",
        "    [\"Сто лет одиночества\", \"Габриэль Гарсиа Маркес\", \"роман\", 1967, \"АРГЕНТИНА\", 2.0],\n",
        "    [\"Обитель\", \"Захар Прилепин\", \"роман\", 2014, \"РОССИЯ\", 3.0],\n",
        "    [\"Три товарища\", \"Эрих Мария Ремарк\", \"роман\", 1936, \"ДАНИЯ\", 4.0],\n",
        "    [\"Географ глобус пропил\", \"Алексей Иванов\", \"роман\", 1997, \"РОССИЯ\", 5.0],\n",
        "    [\"Чтец\", \"Бернхард Шлинк\", \"драма\", 1995, \"ГЕРМАНИЯ\", 6.0],\n",
        "    [\"Щегол\", \"Донна Тартт\", \"роман\", 2013, \"СОЕДИНЕННЫЕ ШТАТЫ\", 7.0],\n",
        "    [\"Огненный перст\", \"Борис Акунин\", \"приключения\", 2014, \"РОССИЯ\", 8.0],\n",
        "    [\"Дерево на крыше\", \"Виктория Токарева\", \"современная проза\", 2011, \"РОССИЯ\", 9.0],\n",
        "    [\"Окна\", \"Дина Рубина\", \"современная проза\", 2012, \"РОССИЯ\", 10.0],\n",
        "]\n",
        "\n",
        "# ваш код здесь"
      ]
    }
  ],
  "metadata": {
    "colab": {
      "collapsed_sections": [
        "YmYxQ_OvTq25",
        "Sh1p8lBET1GW",
        "cxshYfVZUZhR",
        "ZxSqSUvIUfbr",
        "XZVyAKv1U6ls",
        "Lje4YRiwU-Aw",
        "5e2xUK21VDeq",
        "9Uo8xDb1VHoo",
        "UCU4AXSwVS5y",
        "Kywpw8w0VXj3",
        "d3501235-b5f7-4e42-9794-78cadcdfd538",
        "c25efd0b-84b8-4649-949d-034f676ec54b",
        "4123fac3-20c5-4f64-a02c-950fe0882257",
        "yx5q8StLdALc",
        "gpmIUmpJdfFi",
        "rV-lNmqRdx7S",
        "FckiORZdd7bw",
        "i3J1MYu0hqXy",
        "qtLzIxmDh6qM",
        "DCwy3PKnjmqp",
        "VJMijw9Qjs-U",
        "UKNtRJDwjx7B",
        "cHgn1iICj2ed",
        "pzpkwbUekMm8",
        "9j5hkbZskdXS",
        "ie5OV7r3korh",
        "5WZIkY6SkvcN",
        "U4d73q4ykzc2",
        "Niq4JvSQoHBV",
        "iCze1WW4oJU9",
        "Wz-VWPp7oLq4",
        "Kmcon33NoORX",
        "EzmeqkqhoSpt",
        "6AtmoVPyoU-h",
        "CU946oAXIm4l",
        "C4uXtdIKopqs",
        "H3nLpsxIou1Z",
        "VZPOTElHo3SE",
        "efe7wYwMo6SF",
        "F1opcXpyo_Y9",
        "knR-1GeyIr79",
        "TuNoLJyrpYr8",
        "pxjB_KxQpXcV",
        "XdfTwo_xp9QB",
        "C7UZtQGtqDjw",
        "S_cY1boJquzx",
        "Ql5qEUPcwOIo",
        "I-xSxOp6wQGN",
        "sZBtwXDgwRgh",
        "FVaIew0DwS4S",
        "cVKNnd6awYdy",
        "MhsYDdKowa1Z",
        "3q0MAB73wcah",
        "MaU87y3pweMv",
        "0Z1PPZI8wfgZ",
        "ulOELv2_winG",
        "RlLLKnzCwlA0",
        "sO6w4xXzwmb4",
        "DA0_8EAXws5u",
        "gLU-B_rSwvdR",
        "Q4IDVpzJwxaq",
        "nA26TkXuwytC",
        "gdutZU2zw0KO",
        "Iip6FOitw1a1"
      ],
      "provenance": [],
      "include_colab_link": true
    },
    "kernelspec": {
      "display_name": "Python 3",
      "language": "python",
      "name": "python3"
    },
    "language_info": {
      "codemirror_mode": {
        "name": "ipython",
        "version": 3
      },
      "file_extension": ".py",
      "mimetype": "text/x-python",
      "name": "python",
      "nbconvert_exporter": "python",
      "pygments_lexer": "ipython3",
      "version": "3.8.8"
    }
  },
  "nbformat": 4,
  "nbformat_minor": 5
}